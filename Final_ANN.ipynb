{
 "cells": [
  {
   "cell_type": "code",
   "execution_count": 48,
   "id": "d5e295e3",
   "metadata": {},
   "outputs": [],
   "source": [
    "#import libraries\n",
    "import os\n",
    "import sys\n",
    "\n",
    "import numpy as np\n",
    "import csv\n",
    "import pandas as pd\n",
    "from random import shuffle\n",
    "#import tensorflow as tf\n",
    "import torch\n",
    "import torch.optim as optim\n",
    "import torch.nn as nn\n",
    "from torchviz import make_dot\n",
    "from torchvision import models\n",
    "from torch.nn import init\n",
    "from torch.autograd import Variable\n",
    "import torch.nn.functional as F\n",
    "from torch.utils import data\n",
    "from torch.optim import lr_scheduler\n",
    "from torch.utils.data import TensorDataset\n",
    "from torch.utils.data import Dataset, DataLoader\n",
    "\n",
    "\n",
    "from sklearn.linear_model import LogisticRegression\n",
    "from sklearn.model_selection import train_test_split\n",
    "from sklearn.preprocessing import LabelEncoder\n",
    "from sklearn.metrics import mean_squared_error\n",
    "from sklearn.feature_extraction.text import CountVectorizer \n",
    "from sklearn.model_selection import KFold\n",
    "from sklearn.metrics import roc_auc_score\n",
    "from sklearn import preprocessing\n",
    "from sklearn.metrics import f1_score   \n",
    "    \n",
    "\n",
    "from tqdm import tqdm, tqdm_notebook, tnrange\n",
    "from tqdm.autonotebook import tqdm\n",
    "import logging\n",
    "\n",
    "import matplotlib.pyplot as plt\n",
    "import seaborn as sns"
   ]
  },
  {
   "cell_type": "code",
   "execution_count": 2,
   "id": "ed66ebe5",
   "metadata": {},
   "outputs": [],
   "source": [
    "ch = logging.StreamHandler(sys.stdout)"
   ]
  },
  {
   "cell_type": "code",
   "execution_count": 3,
   "id": "f5511d87",
   "metadata": {},
   "outputs": [],
   "source": [
    "device = 'cuda' if torch.cuda.is_available() else 'cpu'"
   ]
  },
  {
   "cell_type": "code",
   "execution_count": 4,
   "id": "e1f912e9",
   "metadata": {},
   "outputs": [],
   "source": [
    "#importing dataset\n",
    "dataset = pd.read_csv('model_outputs_patient_level_v1.csv')"
   ]
  },
  {
   "cell_type": "code",
   "execution_count": 5,
   "id": "d9634dca",
   "metadata": {},
   "outputs": [
    {
     "data": {
      "text/html": [
       "<div>\n",
       "<style scoped>\n",
       "    .dataframe tbody tr th:only-of-type {\n",
       "        vertical-align: middle;\n",
       "    }\n",
       "\n",
       "    .dataframe tbody tr th {\n",
       "        vertical-align: top;\n",
       "    }\n",
       "\n",
       "    .dataframe thead th {\n",
       "        text-align: right;\n",
       "    }\n",
       "</style>\n",
       "<table border=\"1\" class=\"dataframe\">\n",
       "  <thead>\n",
       "    <tr style=\"text-align: right;\">\n",
       "      <th></th>\n",
       "      <th>patient_id</th>\n",
       "      <th>bacterial_score</th>\n",
       "      <th>covid_score</th>\n",
       "      <th>normal_score</th>\n",
       "      <th>prediction</th>\n",
       "      <th>target</th>\n",
       "      <th>group</th>\n",
       "    </tr>\n",
       "  </thead>\n",
       "  <tbody>\n",
       "    <tr>\n",
       "      <th>0</th>\n",
       "      <td>R_0dE4arEYyn9VJOV</td>\n",
       "      <td>-0.314141</td>\n",
       "      <td>-0.064040</td>\n",
       "      <td>0.326980</td>\n",
       "      <td>normal</td>\n",
       "      <td>covid</td>\n",
       "      <td>train</td>\n",
       "    </tr>\n",
       "    <tr>\n",
       "      <th>1</th>\n",
       "      <td>R_10vi04lh64FGSvp</td>\n",
       "      <td>-3.149383</td>\n",
       "      <td>-0.104033</td>\n",
       "      <td>4.250199</td>\n",
       "      <td>normal</td>\n",
       "      <td>normal</td>\n",
       "      <td>train</td>\n",
       "    </tr>\n",
       "    <tr>\n",
       "      <th>2</th>\n",
       "      <td>R_114rz6JiHw1akAz</td>\n",
       "      <td>-4.287257</td>\n",
       "      <td>7.185577</td>\n",
       "      <td>-2.219140</td>\n",
       "      <td>covid</td>\n",
       "      <td>covid</td>\n",
       "      <td>train</td>\n",
       "    </tr>\n",
       "    <tr>\n",
       "      <th>3</th>\n",
       "      <td>R_12JQheYe68Gad2a</td>\n",
       "      <td>-0.930601</td>\n",
       "      <td>-0.562607</td>\n",
       "      <td>2.240499</td>\n",
       "      <td>normal</td>\n",
       "      <td>normal</td>\n",
       "      <td>train</td>\n",
       "    </tr>\n",
       "    <tr>\n",
       "      <th>4</th>\n",
       "      <td>R_1CwPCqYEGxeiu3r</td>\n",
       "      <td>-3.412590</td>\n",
       "      <td>5.565616</td>\n",
       "      <td>-1.503724</td>\n",
       "      <td>covid</td>\n",
       "      <td>covid</td>\n",
       "      <td>train</td>\n",
       "    </tr>\n",
       "  </tbody>\n",
       "</table>\n",
       "</div>"
      ],
      "text/plain": [
       "          patient_id  bacterial_score  covid_score  normal_score prediction  \\\n",
       "0  R_0dE4arEYyn9VJOV        -0.314141    -0.064040      0.326980     normal   \n",
       "1  R_10vi04lh64FGSvp        -3.149383    -0.104033      4.250199     normal   \n",
       "2  R_114rz6JiHw1akAz        -4.287257     7.185577     -2.219140      covid   \n",
       "3  R_12JQheYe68Gad2a        -0.930601    -0.562607      2.240499     normal   \n",
       "4  R_1CwPCqYEGxeiu3r        -3.412590     5.565616     -1.503724      covid   \n",
       "\n",
       "   target  group  \n",
       "0   covid  train  \n",
       "1  normal  train  \n",
       "2   covid  train  \n",
       "3  normal  train  \n",
       "4   covid  train  "
      ]
     },
     "execution_count": 5,
     "metadata": {},
     "output_type": "execute_result"
    }
   ],
   "source": [
    "#partial view of dataset from top\n",
    "dataset.head()"
   ]
  },
  {
   "cell_type": "code",
   "execution_count": 6,
   "id": "0aa0e317",
   "metadata": {},
   "outputs": [
    {
     "name": "stdout",
     "output_type": "stream",
     "text": [
      "Any missing data or NaN in the dataset: False\n"
     ]
    }
   ],
   "source": [
    "#checking for missing values\n",
    "print(str('Any missing data or NaN in the dataset:'),dataset.isnull().values.any())"
   ]
  },
  {
   "cell_type": "code",
   "execution_count": 7,
   "id": "4625e872",
   "metadata": {},
   "outputs": [],
   "source": [
    "dataset = dataset[['bacterial_score','covid_score','normal_score','target']]"
   ]
  },
  {
   "cell_type": "code",
   "execution_count": 8,
   "id": "8d3011a9",
   "metadata": {},
   "outputs": [
    {
     "data": {
      "text/html": [
       "<div>\n",
       "<style scoped>\n",
       "    .dataframe tbody tr th:only-of-type {\n",
       "        vertical-align: middle;\n",
       "    }\n",
       "\n",
       "    .dataframe tbody tr th {\n",
       "        vertical-align: top;\n",
       "    }\n",
       "\n",
       "    .dataframe thead th {\n",
       "        text-align: right;\n",
       "    }\n",
       "</style>\n",
       "<table border=\"1\" class=\"dataframe\">\n",
       "  <thead>\n",
       "    <tr style=\"text-align: right;\">\n",
       "      <th></th>\n",
       "      <th>bacterial_score</th>\n",
       "      <th>covid_score</th>\n",
       "      <th>normal_score</th>\n",
       "      <th>target</th>\n",
       "    </tr>\n",
       "  </thead>\n",
       "  <tbody>\n",
       "    <tr>\n",
       "      <th>0</th>\n",
       "      <td>-0.314141</td>\n",
       "      <td>-0.064040</td>\n",
       "      <td>0.326980</td>\n",
       "      <td>covid</td>\n",
       "    </tr>\n",
       "    <tr>\n",
       "      <th>1</th>\n",
       "      <td>-3.149383</td>\n",
       "      <td>-0.104033</td>\n",
       "      <td>4.250199</td>\n",
       "      <td>normal</td>\n",
       "    </tr>\n",
       "    <tr>\n",
       "      <th>2</th>\n",
       "      <td>-4.287257</td>\n",
       "      <td>7.185577</td>\n",
       "      <td>-2.219140</td>\n",
       "      <td>covid</td>\n",
       "    </tr>\n",
       "    <tr>\n",
       "      <th>3</th>\n",
       "      <td>-0.930601</td>\n",
       "      <td>-0.562607</td>\n",
       "      <td>2.240499</td>\n",
       "      <td>normal</td>\n",
       "    </tr>\n",
       "    <tr>\n",
       "      <th>4</th>\n",
       "      <td>-3.412590</td>\n",
       "      <td>5.565616</td>\n",
       "      <td>-1.503724</td>\n",
       "      <td>covid</td>\n",
       "    </tr>\n",
       "  </tbody>\n",
       "</table>\n",
       "</div>"
      ],
      "text/plain": [
       "   bacterial_score  covid_score  normal_score  target\n",
       "0        -0.314141    -0.064040      0.326980   covid\n",
       "1        -3.149383    -0.104033      4.250199  normal\n",
       "2        -4.287257     7.185577     -2.219140   covid\n",
       "3        -0.930601    -0.562607      2.240499  normal\n",
       "4        -3.412590     5.565616     -1.503724   covid"
      ]
     },
     "execution_count": 8,
     "metadata": {},
     "output_type": "execute_result"
    }
   ],
   "source": [
    "#partial view of dataset from top\n",
    "dataset.head()"
   ]
  },
  {
   "cell_type": "code",
   "execution_count": 9,
   "id": "cd016c56",
   "metadata": {},
   "outputs": [
    {
     "name": "stdout",
     "output_type": "stream",
     "text": [
      "                 bacterial_score  covid_score  normal_score\n",
      "bacterial_score         1.000000    -0.703216     -0.428803\n",
      "covid_score            -0.703216     1.000000     -0.328531\n",
      "normal_score           -0.428803    -0.328531      1.000000\n"
     ]
    },
    {
     "data": {
      "text/plain": [
       "<AxesSubplot:>"
      ]
     },
     "execution_count": 9,
     "metadata": {},
     "output_type": "execute_result"
    },
    {
     "data": {
      "image/png": "[encoded data removed]",
      "text/plain": [
       "<Figure size 720x540 with 2 Axes>"
      ]
     },
     "metadata": {
      "needs_background": "light"
     },
     "output_type": "display_data"
    }
   ],
   "source": [
    "#finding correlation between the features\n",
    "corr_var=dataset.corr()\n",
    "print(corr_var)\n",
    "plt.figure(figsize=(10,7.5))\n",
    "sns.heatmap(corr_var, annot=True, cmap='BuPu')"
   ]
  },
  {
   "cell_type": "code",
   "execution_count": 10,
   "id": "524426bc",
   "metadata": {},
   "outputs": [
    {
     "data": {
      "text/plain": [
       "(126, 4)"
      ]
     },
     "execution_count": 10,
     "metadata": {},
     "output_type": "execute_result"
    }
   ],
   "source": [
    "#dimension of the dataset\n",
    "dataset.shape"
   ]
  },
  {
   "cell_type": "code",
   "execution_count": 12,
   "id": "d4604adb",
   "metadata": {},
   "outputs": [],
   "source": [
    "X = dataset.iloc[:, 0:-1].values\n",
    "y = dataset.iloc[:, -1].values"
   ]
  },
  {
   "cell_type": "code",
   "execution_count": 13,
   "id": "27d54d44",
   "metadata": {},
   "outputs": [
    {
     "name": "stdout",
     "output_type": "stream",
     "text": [
      "[[-3.1414120e-01 -6.4040326e-02  3.2697980e-01]\n",
      " [-3.1493835e+00 -1.0403266e-01  4.2501993e+00]\n",
      " [-4.2872567e+00  7.1855774e+00 -2.2191403e+00]\n",
      " [-9.3060124e-01 -5.6260693e-01  2.2404993e+00]\n",
      " [-3.4125898e+00  5.5656160e+00 -1.5037245e+00]\n",
      " [-1.1502687e+00 -8.9617735e-01  2.1934068e+00]\n",
      " [-3.5938250e+00  6.1282954e+00 -2.0727468e+00]\n",
      " [ 3.0500658e+00 -7.6074280e-01 -1.6272633e+00]\n",
      " [ 4.7408905e+00 -1.1547126e+00 -3.1440196e+00]\n",
      " [-3.1859577e-01 -1.4221884e+00  2.4021032e+00]\n",
      " [ 2.9879577e+00 -1.9077753e+00 -7.9448783e-01]\n",
      " [ 1.3221179e+00 -4.5873990e-01 -6.7501070e-01]\n",
      " [ 5.4516140e-01 -6.2160400e-01  5.1225716e-01]\n",
      " [ 2.9751408e+00 -1.7096481e+00 -1.4888082e+00]\n",
      " [ 4.2601126e-01 -1.3782760e-01 -2.5847560e-02]\n",
      " [ 2.7337341e+00 -1.3899528e+00 -1.3001254e+00]\n",
      " [ 1.2680313e-01 -4.9600005e-01  6.4611370e-01]\n",
      " [ 2.8943640e+00 -1.2893875e+00 -8.7796736e-01]\n",
      " [-1.1878661e+00 -1.0804182e+00  2.8887990e+00]\n",
      " [-4.4728380e+00  6.5762170e+00 -1.7032211e+00]\n",
      " [-4.1937523e+00  6.3218856e+00 -1.3996669e+00]\n",
      " [ 2.7703369e+00 -2.0530340e+00 -6.4280164e-01]\n",
      " [ 2.8674920e+00 -1.5211976e+00 -5.6069875e-01]\n",
      " [-4.7447538e-01 -1.6281006e+00  2.3419259e+00]\n",
      " [-1.0091133e+00 -1.1882460e+00  3.1116946e+00]\n",
      " [-4.1897370e+00  1.6959646e+00  3.5304863e+00]\n",
      " [-4.0083838e+00  5.9502516e+00 -1.0294730e+00]\n",
      " [ 2.1623250e+00 -1.3131931e+00 -3.4895215e-02]\n",
      " [ 1.6338930e+00 -1.3923303e+00 -4.1744947e-01]\n",
      " [-3.3780572e+00  5.0571117e+00 -1.0769881e+00]\n",
      " [-6.2764960e-01  1.1771826e+00  6.8933320e-02]\n",
      " [ 1.8397429e+00 -1.1492390e+00 -7.8980136e-01]\n",
      " [-5.2764010e-01 -1.3835706e+00  2.0534441e+00]\n",
      " [ 3.3029866e+00 -1.0871084e+00 -1.7521735e+00]\n",
      " [ 3.4744651e+00 -1.3718101e+00 -1.6399344e+00]\n",
      " [-1.7633173e-01 -9.8093784e-01  1.1897410e+00]\n",
      " [-4.6256190e+00  4.4172916e-01  5.1469965e+00]\n",
      " [-3.0938644e+00  3.8861096e+00  6.4767840e-02]\n",
      " [ 3.8659114e-01  2.4943879e-01 -4.8787580e-01]\n",
      " [-4.8465940e+00 -1.2058670e+00  6.1632430e+00]\n",
      " [-3.8318348e+00 -1.4263003e+00  6.1010103e+00]\n",
      " [-9.3792750e-01 -1.1281055e+00  2.1097520e+00]\n",
      " [-3.2796950e-01 -2.9885402e-01  1.3141488e+00]\n",
      " [-7.1299910e-01 -7.3339070e-01  1.6662997e+00]\n",
      " [ 6.4293660e-02  6.7377970e-02  2.6816487e-01]\n",
      " [-9.4074550e-01 -1.0529110e+00  2.4438760e+00]\n",
      " [ 1.5857704e+00 -5.1547460e-01 -8.0657900e-01]\n",
      " [-4.8427588e-01 -8.7145310e-01  2.3583624e+00]\n",
      " [-4.4221628e-01 -9.8614400e-01  1.4613233e+00]\n",
      " [-1.2641593e+00 -3.9471770e-01  2.1028812e+00]\n",
      " [ 5.9566450e-01  4.5526335e-01 -9.5237220e-01]\n",
      " [-5.1512235e-01 -9.3161150e-01  1.3659345e+00]\n",
      " [ 3.0196264e+00 -1.0331370e+00 -1.2559850e+00]\n",
      " [-3.0701783e+00  4.2869260e+00 -4.4225135e-01]\n",
      " [ 1.9217092e-03 -8.1703407e-01  1.7452159e+00]\n",
      " [-4.1846410e+00 -3.8582122e-01  5.6497690e+00]\n",
      " [-3.3438113e+00  2.9449358e+00  1.2908574e+00]\n",
      " [-1.8651700e+00 -1.6821873e+00  4.5209080e+00]\n",
      " [-2.8952718e-01 -1.9103761e+00  2.8395305e+00]\n",
      " [-4.6853420e+00  7.1673937e+00 -1.8293377e+00]\n",
      " [-9.6812950e-01 -7.8210810e-01  2.1253815e+00]\n",
      " [ 3.6808047e+00 -7.3697410e-01 -2.9662360e+00]\n",
      " [ 2.6223662e+00 -1.5811157e+00 -5.6061410e-01]\n",
      " [ 2.6903098e+00 -7.1751280e-01 -1.1340519e+00]\n",
      " [ 4.0063320e+00 -1.0602801e+00 -2.8805249e+00]\n",
      " [-1.7490566e+00 -5.9756020e-01  1.9991529e+00]\n",
      " [ 2.9319785e+00 -8.8879990e-01 -1.7447490e+00]\n",
      " [ 4.3721480e+00 -1.3624918e+00 -3.0232494e+00]\n",
      " [ 4.8119430e+00 -1.2828134e+00 -3.1126816e+00]\n",
      " [-2.2209000e+00 -1.1164968e+00  4.1421120e+00]\n",
      " [ 4.2889760e+00 -1.1857889e+00 -1.9772495e+00]\n",
      " [-3.1038973e-01 -5.7452995e-01  7.6035225e-01]\n",
      " [ 2.2752104e+00 -1.7232664e-02 -1.6656222e+00]\n",
      " [-1.6712777e-01 -1.4310262e+00  1.5788928e+00]\n",
      " [-4.5934585e-01 -1.0011151e+00  2.0673392e+00]\n",
      " [-4.5808125e+00  7.5951090e+00 -2.8330283e+00]\n",
      " [ 1.1747276e-01 -1.5810964e+00  1.9102656e+00]\n",
      " [-3.3566911e+00  1.3903820e-01  3.6581805e+00]\n",
      " [ 1.0132226e+00 -7.7593195e-01 -6.4399560e-01]\n",
      " [ 3.3591980e+00 -8.7081790e-01 -2.1661851e+00]\n",
      " [-4.6646670e+00  5.1659120e+00  2.2939038e-01]\n",
      " [-4.1889734e+00  6.7125163e+00 -2.2349942e+00]\n",
      " [ 3.9508740e+00 -8.5242860e-01 -3.1477230e+00]\n",
      " [ 2.4428513e+00 -1.6172087e+00 -9.2352310e-01]\n",
      " [ 1.5578893e+00 -1.1505221e+00 -2.2872347e-02]\n",
      " [-4.0549800e+00  6.9712290e+00 -2.4812903e+00]\n",
      " [-1.4431605e+00 -1.5265273e+00  3.1141472e+00]\n",
      " [-3.8409960e-01 -1.3719437e+00  1.5054932e+00]\n",
      " [-4.6652737e+00  4.6841235e+00  9.8581620e-01]\n",
      " [-3.8981786e+00  6.3579370e+00 -1.9673605e+00]\n",
      " [-2.5462252e-01 -1.1337004e+00  2.2347133e+00]\n",
      " [-3.5286124e+00  2.9780350e+00  1.6185286e+00]\n",
      " [ 2.2515993e-01 -8.6861074e-01  1.0389051e+00]\n",
      " [ 2.6065510e+00 -1.6693022e+00 -7.6123196e-01]\n",
      " [-4.1550510e+00  6.0118790e+00 -1.4126372e+00]\n",
      " [-4.6692576e+00  6.7214727e+00 -1.5087322e+00]\n",
      " [-4.8576490e+00  6.8869320e+00 -1.7025545e+00]\n",
      " [ 7.4194245e-02 -4.3121890e-01  1.3132682e-01]\n",
      " [ 1.9712445e+00 -9.8624045e-01 -1.0214597e+00]\n",
      " [ 4.3837005e-01 -1.6251122e+00  2.2922328e+00]\n",
      " [-4.0942620e+00  3.4467983e+00  1.2176634e+00]\n",
      " [ 1.9399097e+00 -1.6696212e+00 -1.2033324e-01]\n",
      " [ 3.8544178e-01 -1.5334678e-01 -5.3892930e-01]\n",
      " [ 2.5193052e+00 -4.7086080e-01 -8.8572276e-01]\n",
      " [-4.8593416e+00  7.7943650e-01  4.8482757e+00]\n",
      " [ 2.2551708e+00 -1.4576265e+00  2.5958250e-01]\n",
      " [ 3.6114483e+00 -5.9853910e-01 -2.4883110e+00]\n",
      " [ 4.1251440e+00 -8.0383575e-01 -2.1032481e+00]\n",
      " [ 3.2566404e+00 -1.0279242e+00 -1.6104883e+00]\n",
      " [-1.3455443e-01 -5.3133850e-01  4.3729162e-01]\n",
      " [-1.0327009e-01 -1.8220159e+00  2.7078612e+00]\n",
      " [-3.6439946e+00  7.2633610e+00 -2.7082946e+00]\n",
      " [ 3.1791415e+00 -9.8543304e-01 -1.3314930e+00]\n",
      " [-2.3941948e+00  4.2639074e-01  3.2594886e+00]\n",
      " [-6.9092107e-03 -6.2830883e-01  3.3350940e-01]\n",
      " [-2.0351120e-01 -7.7929030e-02  2.1344313e-01]\n",
      " [ 5.7313786e+00 -1.0591943e+00 -4.3963590e+00]\n",
      " [-9.9757890e-01 -8.5651547e-01  2.3525786e+00]\n",
      " [-4.6196067e-01 -8.0198230e-01  1.8445827e+00]\n",
      " [ 1.7092264e+00 -1.3441733e+00 -2.8541300e-01]\n",
      " [ 2.8523376e+00 -2.1453430e+00 -3.0238100e-01]\n",
      " [-9.5622590e-01 -5.6453740e-01  1.4867920e+00]\n",
      " [-8.2869790e-01 -2.3571130e-01  1.3356336e+00]\n",
      " [-9.2564994e-01 -1.7479401e+00  3.3818107e+00]\n",
      " [ 5.1557776e-02 -1.3380973e+00  1.3776215e+00]\n",
      " [-4.1965480e+00  6.4333634e+00 -1.8928990e+00]]\n"
     ]
    }
   ],
   "source": [
    "print(X)"
   ]
  },
  {
   "cell_type": "code",
   "execution_count": 14,
   "id": "827f4a3f",
   "metadata": {},
   "outputs": [
    {
     "name": "stdout",
     "output_type": "stream",
     "text": [
      "['covid' 'normal' 'covid' 'normal' 'covid' 'normal' 'covid' 'bacterial'\n",
      " 'bacterial' 'normal' 'bacterial' 'covid' 'bacterial' 'bacterial' 'normal'\n",
      " 'bacterial' 'normal' 'bacterial' 'normal' 'covid' 'covid' 'bacterial'\n",
      " 'bacterial' 'normal' 'normal' 'normal' 'covid' 'bacterial' 'bacterial'\n",
      " 'covid' 'covid' 'bacterial' 'normal' 'bacterial' 'bacterial' 'normal'\n",
      " 'normal' 'covid' 'covid' 'normal' 'normal' 'normal' 'normal' 'normal'\n",
      " 'normal' 'normal' 'bacterial' 'normal' 'normal' 'normal' 'covid' 'normal'\n",
      " 'bacterial' 'covid' 'normal' 'normal' 'covid' 'normal' 'normal' 'covid'\n",
      " 'normal' 'bacterial' 'bacterial' 'bacterial' 'bacterial' 'normal'\n",
      " 'bacterial' 'bacterial' 'bacterial' 'normal' 'bacterial' 'normal'\n",
      " 'bacterial' 'normal' 'normal' 'covid' 'normal' 'normal' 'bacterial'\n",
      " 'bacterial' 'covid' 'covid' 'bacterial' 'bacterial' 'bacterial' 'covid'\n",
      " 'normal' 'normal' 'covid' 'covid' 'normal' 'covid' 'normal' 'bacterial'\n",
      " 'covid' 'covid' 'covid' 'normal' 'bacterial' 'normal' 'covid' 'bacterial'\n",
      " 'covid' 'bacterial' 'normal' 'normal' 'bacterial' 'bacterial' 'bacterial'\n",
      " 'covid' 'normal' 'covid' 'bacterial' 'normal' 'bacterial' 'normal'\n",
      " 'bacterial' 'normal' 'normal' 'bacterial' 'bacterial' 'normal' 'normal'\n",
      " 'normal' 'normal' 'covid']\n"
     ]
    }
   ],
   "source": [
    "print(y)"
   ]
  },
  {
   "cell_type": "code",
   "execution_count": 15,
   "id": "e3515a03",
   "metadata": {},
   "outputs": [],
   "source": [
    "#Categorical encoding if we need it in the future\n",
    "#from sklearn.preprocessing import LabelEncoder\n",
    "le = LabelEncoder()\n",
    "#Example gender column in index 2 for sample csv\n",
    "y[:] = le.fit_transform(y[:])"
   ]
  },
  {
   "cell_type": "code",
   "execution_count": 16,
   "id": "5a47689d",
   "metadata": {},
   "outputs": [
    {
     "data": {
      "text/plain": [
       "numpy.ndarray"
      ]
     },
     "execution_count": 16,
     "metadata": {},
     "output_type": "execute_result"
    }
   ],
   "source": [
    "type(y)"
   ]
  },
  {
   "cell_type": "code",
   "execution_count": 17,
   "id": "3a097d26",
   "metadata": {},
   "outputs": [
    {
     "name": "stdout",
     "output_type": "stream",
     "text": [
      "[1 2 1 2 1 2 1 0 0 2 0 1 0 0 2 0 2 0 2 1 1 0 0 2 2 2 1 0 0 1 1 0 2 0 0 2 2\n",
      " 1 1 2 2 2 2 2 2 2 0 2 2 2 1 2 0 1 2 2 1 2 2 1 2 0 0 0 0 2 0 0 0 2 0 2 0 2\n",
      " 2 1 2 2 0 0 1 1 0 0 0 1 2 2 1 1 2 1 2 0 1 1 1 2 0 2 1 0 1 0 2 2 0 0 0 1 2\n",
      " 1 0 2 0 2 0 2 2 0 0 2 2 2 2 1]\n"
     ]
    }
   ],
   "source": [
    "print(y)"
   ]
  },
  {
   "cell_type": "code",
   "execution_count": 18,
   "id": "a1017951",
   "metadata": {},
   "outputs": [
    {
     "data": {
      "text/plain": [
       "numpy.ndarray"
      ]
     },
     "execution_count": 18,
     "metadata": {},
     "output_type": "execute_result"
    }
   ],
   "source": [
    "type(X)"
   ]
  },
  {
   "cell_type": "code",
   "execution_count": 15,
   "id": "9f70c5a5",
   "metadata": {},
   "outputs": [],
   "source": [
    "#country name wont be that much correlation added it has more than 2 names so go for one hot encoding\n",
    "#from sklearn.compose import ColumnTransformer\n",
    "#from sklearn.preprocessing import OneHotEncoder\n",
    "#country name is present in 1st index value\n",
    "#ct = ColumnTransformer(transformers=[('encoder', OneHotEncoder(), [1])], remainder='passthrough')\n",
    "#X = np.array(ct.fit_transform(X))"
   ]
  },
  {
   "cell_type": "code",
   "execution_count": 19,
   "id": "6e313e6b",
   "metadata": {},
   "outputs": [],
   "source": [
    "#training and testing split function\n",
    "# Will use this to split into train and validate this time\n",
    "from sklearn.model_selection import train_test_split\n",
    "X_train, X_val, y_train, y_val = train_test_split(X, y, test_size = 0.3, random_state = 0)"
   ]
  },
  {
   "cell_type": "code",
   "execution_count": 20,
   "id": "682deac9",
   "metadata": {},
   "outputs": [],
   "source": [
    "#feature scaling is an important and mandatory for ann process before modelling\n",
    "from sklearn.preprocessing import StandardScaler\n",
    "sc = StandardScaler()\n",
    "X_train = sc.fit_transform(X_train)\n",
    "X_val = sc.transform(X_val)"
   ]
  },
  {
   "cell_type": "code",
   "execution_count": 21,
   "id": "4cc02813",
   "metadata": {},
   "outputs": [
    {
     "name": "stdout",
     "output_type": "stream",
     "text": [
      "[1 2 1 2 1 2 1 0 0 2 0 1 0 0 2 0 2 0 2 1 1 0 0 2 2 2 1 0 0 1 1 0 2 0 0 2 2\n",
      " 1 1 2 2 2 2 2 2 2 0 2 2 2 1 2 0 1 2 2 1 2 2 1 2 0 0 0 0 2 0 0 0 2 0 2 0 2\n",
      " 2 1 2 2 0 0 1 1 0 0 0 1 2 2 1 1 2 1 2 0 1 1 1 2 0 2 1 0 1 0 2 2 0 0 0 1 2\n",
      " 1 0 2 0 2 0 2 2 0 0 2 2 2 2 1]\n"
     ]
    }
   ],
   "source": [
    "print(y)"
   ]
  },
  {
   "cell_type": "code",
   "execution_count": 22,
   "id": "29aae030",
   "metadata": {},
   "outputs": [],
   "source": [
    "#y = np.array(y, dtype=np.float16)"
   ]
  },
  {
   "cell_type": "code",
   "execution_count": 23,
   "id": "7e1f1c67",
   "metadata": {},
   "outputs": [
    {
     "name": "stdout",
     "output_type": "stream",
     "text": [
      "[1 2 1 2 1 2 1 0 0 2 0 1 0 0 2 0 2 0 2 1 1 0 0 2 2 2 1 0 0 1 1 0 2 0 0 2 2\n",
      " 1 1 2 2 2 2 2 2 2 0 2 2 2 1 2 0 1 2 2 1 2 2 1 2 0 0 0 0 2 0 0 0 2 0 2 0 2\n",
      " 2 1 2 2 0 0 1 1 0 0 0 1 2 2 1 1 2 1 2 0 1 1 1 2 0 2 1 0 1 0 2 2 0 0 0 1 2\n",
      " 1 0 2 0 2 0 2 2 0 0 2 2 2 2 1]\n"
     ]
    }
   ],
   "source": [
    "print(y)"
   ]
  },
  {
   "cell_type": "code",
   "execution_count": 24,
   "id": "bb0b444b",
   "metadata": {},
   "outputs": [
    {
     "name": "stdout",
     "output_type": "stream",
     "text": [
      "Train data set: 88\n",
      "Validation data set: 38\n"
     ]
    }
   ],
   "source": [
    "print('Train data set:', len(X_train))\n",
    "print('Validation data set:', len(X_val))"
   ]
  },
  {
   "cell_type": "code",
   "execution_count": 25,
   "id": "1ae465f1",
   "metadata": {},
   "outputs": [
    {
     "name": "stdout",
     "output_type": "stream",
     "text": [
      "[[-3.1414120e-01 -6.4040326e-02  3.2697980e-01]\n",
      " [-3.1493835e+00 -1.0403266e-01  4.2501993e+00]\n",
      " [-4.2872567e+00  7.1855774e+00 -2.2191403e+00]\n",
      " [-9.3060124e-01 -5.6260693e-01  2.2404993e+00]\n",
      " [-3.4125898e+00  5.5656160e+00 -1.5037245e+00]\n",
      " [-1.1502687e+00 -8.9617735e-01  2.1934068e+00]\n",
      " [-3.5938250e+00  6.1282954e+00 -2.0727468e+00]\n",
      " [ 3.0500658e+00 -7.6074280e-01 -1.6272633e+00]\n",
      " [ 4.7408905e+00 -1.1547126e+00 -3.1440196e+00]\n",
      " [-3.1859577e-01 -1.4221884e+00  2.4021032e+00]\n",
      " [ 2.9879577e+00 -1.9077753e+00 -7.9448783e-01]\n",
      " [ 1.3221179e+00 -4.5873990e-01 -6.7501070e-01]\n",
      " [ 5.4516140e-01 -6.2160400e-01  5.1225716e-01]\n",
      " [ 2.9751408e+00 -1.7096481e+00 -1.4888082e+00]\n",
      " [ 4.2601126e-01 -1.3782760e-01 -2.5847560e-02]\n",
      " [ 2.7337341e+00 -1.3899528e+00 -1.3001254e+00]\n",
      " [ 1.2680313e-01 -4.9600005e-01  6.4611370e-01]\n",
      " [ 2.8943640e+00 -1.2893875e+00 -8.7796736e-01]\n",
      " [-1.1878661e+00 -1.0804182e+00  2.8887990e+00]\n",
      " [-4.4728380e+00  6.5762170e+00 -1.7032211e+00]\n",
      " [-4.1937523e+00  6.3218856e+00 -1.3996669e+00]\n",
      " [ 2.7703369e+00 -2.0530340e+00 -6.4280164e-01]\n",
      " [ 2.8674920e+00 -1.5211976e+00 -5.6069875e-01]\n",
      " [-4.7447538e-01 -1.6281006e+00  2.3419259e+00]\n",
      " [-1.0091133e+00 -1.1882460e+00  3.1116946e+00]\n",
      " [-4.1897370e+00  1.6959646e+00  3.5304863e+00]\n",
      " [-4.0083838e+00  5.9502516e+00 -1.0294730e+00]\n",
      " [ 2.1623250e+00 -1.3131931e+00 -3.4895215e-02]\n",
      " [ 1.6338930e+00 -1.3923303e+00 -4.1744947e-01]\n",
      " [-3.3780572e+00  5.0571117e+00 -1.0769881e+00]\n",
      " [-6.2764960e-01  1.1771826e+00  6.8933320e-02]\n",
      " [ 1.8397429e+00 -1.1492390e+00 -7.8980136e-01]\n",
      " [-5.2764010e-01 -1.3835706e+00  2.0534441e+00]\n",
      " [ 3.3029866e+00 -1.0871084e+00 -1.7521735e+00]\n",
      " [ 3.4744651e+00 -1.3718101e+00 -1.6399344e+00]\n",
      " [-1.7633173e-01 -9.8093784e-01  1.1897410e+00]\n",
      " [-4.6256190e+00  4.4172916e-01  5.1469965e+00]\n",
      " [-3.0938644e+00  3.8861096e+00  6.4767840e-02]\n",
      " [ 3.8659114e-01  2.4943879e-01 -4.8787580e-01]\n",
      " [-4.8465940e+00 -1.2058670e+00  6.1632430e+00]\n",
      " [-3.8318348e+00 -1.4263003e+00  6.1010103e+00]\n",
      " [-9.3792750e-01 -1.1281055e+00  2.1097520e+00]\n",
      " [-3.2796950e-01 -2.9885402e-01  1.3141488e+00]\n",
      " [-7.1299910e-01 -7.3339070e-01  1.6662997e+00]\n",
      " [ 6.4293660e-02  6.7377970e-02  2.6816487e-01]\n",
      " [-9.4074550e-01 -1.0529110e+00  2.4438760e+00]\n",
      " [ 1.5857704e+00 -5.1547460e-01 -8.0657900e-01]\n",
      " [-4.8427588e-01 -8.7145310e-01  2.3583624e+00]\n",
      " [-4.4221628e-01 -9.8614400e-01  1.4613233e+00]\n",
      " [-1.2641593e+00 -3.9471770e-01  2.1028812e+00]\n",
      " [ 5.9566450e-01  4.5526335e-01 -9.5237220e-01]\n",
      " [-5.1512235e-01 -9.3161150e-01  1.3659345e+00]\n",
      " [ 3.0196264e+00 -1.0331370e+00 -1.2559850e+00]\n",
      " [-3.0701783e+00  4.2869260e+00 -4.4225135e-01]\n",
      " [ 1.9217092e-03 -8.1703407e-01  1.7452159e+00]\n",
      " [-4.1846410e+00 -3.8582122e-01  5.6497690e+00]\n",
      " [-3.3438113e+00  2.9449358e+00  1.2908574e+00]\n",
      " [-1.8651700e+00 -1.6821873e+00  4.5209080e+00]\n",
      " [-2.8952718e-01 -1.9103761e+00  2.8395305e+00]\n",
      " [-4.6853420e+00  7.1673937e+00 -1.8293377e+00]\n",
      " [-9.6812950e-01 -7.8210810e-01  2.1253815e+00]\n",
      " [ 3.6808047e+00 -7.3697410e-01 -2.9662360e+00]\n",
      " [ 2.6223662e+00 -1.5811157e+00 -5.6061410e-01]\n",
      " [ 2.6903098e+00 -7.1751280e-01 -1.1340519e+00]\n",
      " [ 4.0063320e+00 -1.0602801e+00 -2.8805249e+00]\n",
      " [-1.7490566e+00 -5.9756020e-01  1.9991529e+00]\n",
      " [ 2.9319785e+00 -8.8879990e-01 -1.7447490e+00]\n",
      " [ 4.3721480e+00 -1.3624918e+00 -3.0232494e+00]\n",
      " [ 4.8119430e+00 -1.2828134e+00 -3.1126816e+00]\n",
      " [-2.2209000e+00 -1.1164968e+00  4.1421120e+00]\n",
      " [ 4.2889760e+00 -1.1857889e+00 -1.9772495e+00]\n",
      " [-3.1038973e-01 -5.7452995e-01  7.6035225e-01]\n",
      " [ 2.2752104e+00 -1.7232664e-02 -1.6656222e+00]\n",
      " [-1.6712777e-01 -1.4310262e+00  1.5788928e+00]\n",
      " [-4.5934585e-01 -1.0011151e+00  2.0673392e+00]\n",
      " [-4.5808125e+00  7.5951090e+00 -2.8330283e+00]\n",
      " [ 1.1747276e-01 -1.5810964e+00  1.9102656e+00]\n",
      " [-3.3566911e+00  1.3903820e-01  3.6581805e+00]\n",
      " [ 1.0132226e+00 -7.7593195e-01 -6.4399560e-01]\n",
      " [ 3.3591980e+00 -8.7081790e-01 -2.1661851e+00]\n",
      " [-4.6646670e+00  5.1659120e+00  2.2939038e-01]\n",
      " [-4.1889734e+00  6.7125163e+00 -2.2349942e+00]\n",
      " [ 3.9508740e+00 -8.5242860e-01 -3.1477230e+00]\n",
      " [ 2.4428513e+00 -1.6172087e+00 -9.2352310e-01]\n",
      " [ 1.5578893e+00 -1.1505221e+00 -2.2872347e-02]\n",
      " [-4.0549800e+00  6.9712290e+00 -2.4812903e+00]\n",
      " [-1.4431605e+00 -1.5265273e+00  3.1141472e+00]\n",
      " [-3.8409960e-01 -1.3719437e+00  1.5054932e+00]\n",
      " [-4.6652737e+00  4.6841235e+00  9.8581620e-01]\n",
      " [-3.8981786e+00  6.3579370e+00 -1.9673605e+00]\n",
      " [-2.5462252e-01 -1.1337004e+00  2.2347133e+00]\n",
      " [-3.5286124e+00  2.9780350e+00  1.6185286e+00]\n",
      " [ 2.2515993e-01 -8.6861074e-01  1.0389051e+00]\n",
      " [ 2.6065510e+00 -1.6693022e+00 -7.6123196e-01]\n",
      " [-4.1550510e+00  6.0118790e+00 -1.4126372e+00]\n",
      " [-4.6692576e+00  6.7214727e+00 -1.5087322e+00]\n",
      " [-4.8576490e+00  6.8869320e+00 -1.7025545e+00]\n",
      " [ 7.4194245e-02 -4.3121890e-01  1.3132682e-01]\n",
      " [ 1.9712445e+00 -9.8624045e-01 -1.0214597e+00]\n",
      " [ 4.3837005e-01 -1.6251122e+00  2.2922328e+00]\n",
      " [-4.0942620e+00  3.4467983e+00  1.2176634e+00]\n",
      " [ 1.9399097e+00 -1.6696212e+00 -1.2033324e-01]\n",
      " [ 3.8544178e-01 -1.5334678e-01 -5.3892930e-01]\n",
      " [ 2.5193052e+00 -4.7086080e-01 -8.8572276e-01]\n",
      " [-4.8593416e+00  7.7943650e-01  4.8482757e+00]\n",
      " [ 2.2551708e+00 -1.4576265e+00  2.5958250e-01]\n",
      " [ 3.6114483e+00 -5.9853910e-01 -2.4883110e+00]\n",
      " [ 4.1251440e+00 -8.0383575e-01 -2.1032481e+00]\n",
      " [ 3.2566404e+00 -1.0279242e+00 -1.6104883e+00]\n",
      " [-1.3455443e-01 -5.3133850e-01  4.3729162e-01]\n",
      " [-1.0327009e-01 -1.8220159e+00  2.7078612e+00]\n",
      " [-3.6439946e+00  7.2633610e+00 -2.7082946e+00]\n",
      " [ 3.1791415e+00 -9.8543304e-01 -1.3314930e+00]\n",
      " [-2.3941948e+00  4.2639074e-01  3.2594886e+00]\n",
      " [-6.9092107e-03 -6.2830883e-01  3.3350940e-01]\n",
      " [-2.0351120e-01 -7.7929030e-02  2.1344313e-01]\n",
      " [ 5.7313786e+00 -1.0591943e+00 -4.3963590e+00]\n",
      " [-9.9757890e-01 -8.5651547e-01  2.3525786e+00]\n",
      " [-4.6196067e-01 -8.0198230e-01  1.8445827e+00]\n",
      " [ 1.7092264e+00 -1.3441733e+00 -2.8541300e-01]\n",
      " [ 2.8523376e+00 -2.1453430e+00 -3.0238100e-01]\n",
      " [-9.5622590e-01 -5.6453740e-01  1.4867920e+00]\n",
      " [-8.2869790e-01 -2.3571130e-01  1.3356336e+00]\n",
      " [-9.2564994e-01 -1.7479401e+00  3.3818107e+00]\n",
      " [ 5.1557776e-02 -1.3380973e+00  1.3776215e+00]\n",
      " [-4.1965480e+00  6.4333634e+00 -1.8928990e+00]]\n"
     ]
    }
   ],
   "source": [
    "print(X)"
   ]
  },
  {
   "cell_type": "code",
   "execution_count": 26,
   "id": "98ef2bdf",
   "metadata": {},
   "outputs": [
    {
     "name": "stdout",
     "output_type": "stream",
     "text": [
      "[1 2 1 2 1 2 1 0 0 2 0 1 0 0 2 0 2 0 2 1 1 0 0 2 2 2 1 0 0 1 1 0 2 0 0 2 2\n",
      " 1 1 2 2 2 2 2 2 2 0 2 2 2 1 2 0 1 2 2 1 2 2 1 2 0 0 0 0 2 0 0 0 2 0 2 0 2\n",
      " 2 1 2 2 0 0 1 1 0 0 0 1 2 2 1 1 2 1 2 0 1 1 1 2 0 2 1 0 1 0 2 2 0 0 0 1 2\n",
      " 1 0 2 0 2 0 2 2 0 0 2 2 2 2 1]\n"
     ]
    }
   ],
   "source": [
    "print(y)"
   ]
  },
  {
   "cell_type": "code",
   "execution_count": 27,
   "id": "75fd1641",
   "metadata": {},
   "outputs": [
    {
     "data": {
      "text/plain": [
       "numpy.ndarray"
      ]
     },
     "execution_count": 27,
     "metadata": {},
     "output_type": "execute_result"
    }
   ],
   "source": [
    "type(y)"
   ]
  },
  {
   "cell_type": "code",
   "execution_count": 28,
   "id": "9001cf1f",
   "metadata": {},
   "outputs": [],
   "source": [
    "# Write a dataloader\n",
    "class table_loader(Dataset):\n",
    "    def __init__(self, X, y, batchsize = 50, shuffleidx = False):\n",
    "        self.X, self.y = X, y\n",
    "        if shuffleidx:\n",
    "          self.X, self.y = self.shuffle(self.X, self.y)\n",
    "        self.batch_size = batchsize\n",
    "\n",
    "    def __len__(self):\n",
    "        return (self.X.shape[0] // self.batch_size) + 1\n",
    "\n",
    "    def __getitem__(self, idx):\n",
    "\n",
    "        # Create the batch input and target\n",
    "        batchidx = slice(idx*self.batch_size, (idx+1)*self.batch_size)\n",
    "        x = self.X[batchidx]\n",
    "        y = self.y[batchidx]\n",
    "\n",
    "        # Move the data to dtype float and onto the device\n",
    "        x = torch.from_numpy(x).float().to(device)\n",
    "        y = np.array(y, dtype=np.int64)\n",
    "           # torch.from_numpy(df).float().to(device)\n",
    "        y = torch.from_numpy(y).float().to(device)\n",
    "\n",
    "        return x, y\n",
    "      \n",
    "    def shuffle(self, X, y):\n",
    "        indices = np.arange(X_train.shape[0]) #gets the number of rows \n",
    "        shuffle(indices)\n",
    "        Xout, yout = X[list(indices)], y[list(indices)]\n",
    "        return Xout, yout"
   ]
  },
  {
   "cell_type": "code",
   "execution_count": 39,
   "id": "7cccea5b",
   "metadata": {},
   "outputs": [],
   "source": [
    "class LogisticRegresion(nn.Module):\n",
    "    def __init__(self, input_dim = 6, output_dim = 1):\n",
    "        super(LogisticRegresion, self).__init__()\n",
    "        self.linear = nn.Linear(input_dim, output_dim)\n",
    "        #self.linear = nn.Linear(6, 6)\n",
    "        #self.linear = nn.Linear(6, 1)\n",
    "        self.m = nn.Sigmoid()\n",
    "\n",
    "    def forward(self, x):\n",
    "        x = self.linear(x)\n",
    "        x = self.m(x)\n",
    "        x = x.flatten()\n",
    "        return x"
   ]
  },
  {
   "cell_type": "code",
   "execution_count": 40,
   "id": "d5392941",
   "metadata": {},
   "outputs": [],
   "source": [
    "model = LogisticRegresion(input_dim = X_train.shape[1])"
   ]
  },
  {
   "cell_type": "code",
   "execution_count": 41,
   "id": "96f3f2a7",
   "metadata": {},
   "outputs": [],
   "source": [
    "batch_size = 1024\n",
    "optimizer = torch.optim.Adam(model.parameters(), lr=1e-2)\n",
    "criterion = nn.BCELoss()\n",
    "device = 'cuda'\n",
    "model = model.to(device)"
   ]
  },
  {
   "cell_type": "code",
   "execution_count": 42,
   "id": "69c057d4",
   "metadata": {},
   "outputs": [],
   "source": [
    "trndataset = table_loader(X_train, y_train, batch_size, shuffleidx = True)\n",
    "valdataset = table_loader(X_val, y_val, batch_size, shuffleidx = False)"
   ]
  },
  {
   "cell_type": "code",
   "execution_count": 53,
   "id": "4d6cb2ff",
   "metadata": {},
   "outputs": [
    {
     "data": {
      "application/vnd.jupyter.widget-view+json": {
       "model_id": "60ea6dbb0cc64b9889b4c6ddff92ce1d",
       "version_major": 2,
       "version_minor": 0
      },
      "text/plain": [
       "  0%|          | 0/1 [00:00<?, ?it/s]"
      ]
     },
     "metadata": {},
     "output_type": "display_data"
    },
    {
     "data": {
      "application/vnd.jupyter.widget-view+json": {
       "model_id": "4a5f2f9f324f4475a940dbe0ad1845cd",
       "version_major": 2,
       "version_minor": 0
      },
      "text/plain": [
       "  0%|          | 0/1 [00:00<?, ?it/s]"
      ]
     },
     "metadata": {},
     "output_type": "display_data"
    },
    {
     "name": "stdout",
     "output_type": "stream",
     "text": [
      "Epoch 0 valid accuracy : 55.203468\n"
     ]
    },
    {
     "data": {
      "application/vnd.jupyter.widget-view+json": {
       "model_id": "47cc22a43b644c61b99a1de726261086",
       "version_major": 2,
       "version_minor": 0
      },
      "text/plain": [
       "  0%|          | 0/1 [00:00<?, ?it/s]"
      ]
     },
     "metadata": {},
     "output_type": "display_data"
    },
    {
     "data": {
      "application/vnd.jupyter.widget-view+json": {
       "model_id": "5512e81840e74ec2a2bb53fcbd50ab9d",
       "version_major": 2,
       "version_minor": 0
      },
      "text/plain": [
       "  0%|          | 0/1 [00:00<?, ?it/s]"
      ]
     },
     "metadata": {},
     "output_type": "display_data"
    },
    {
     "name": "stdout",
     "output_type": "stream",
     "text": [
      "Epoch 1 valid accuracy : 55.277705\n"
     ]
    },
    {
     "data": {
      "application/vnd.jupyter.widget-view+json": {
       "model_id": "ce584faea0b64be1a8265d39d0b7d692",
       "version_major": 2,
       "version_minor": 0
      },
      "text/plain": [
       "  0%|          | 0/1 [00:00<?, ?it/s]"
      ]
     },
     "metadata": {},
     "output_type": "display_data"
    },
    {
     "data": {
      "application/vnd.jupyter.widget-view+json": {
       "model_id": "cde40fcdea294bb6994f6a16c8eda59f",
       "version_major": 2,
       "version_minor": 0
      },
      "text/plain": [
       "  0%|          | 0/1 [00:00<?, ?it/s]"
      ]
     },
     "metadata": {},
     "output_type": "display_data"
    },
    {
     "name": "stdout",
     "output_type": "stream",
     "text": [
      "Epoch 2 valid accuracy : 55.351210\n"
     ]
    },
    {
     "data": {
      "application/vnd.jupyter.widget-view+json": {
       "model_id": "10ca406fdec041df95cb2a4ced0b149f",
       "version_major": 2,
       "version_minor": 0
      },
      "text/plain": [
       "  0%|          | 0/1 [00:00<?, ?it/s]"
      ]
     },
     "metadata": {},
     "output_type": "display_data"
    },
    {
     "data": {
      "application/vnd.jupyter.widget-view+json": {
       "model_id": "a31a81c4be374a6ba8a45ee74148967b",
       "version_major": 2,
       "version_minor": 0
      },
      "text/plain": [
       "  0%|          | 0/1 [00:00<?, ?it/s]"
      ]
     },
     "metadata": {},
     "output_type": "display_data"
    },
    {
     "name": "stdout",
     "output_type": "stream",
     "text": [
      "Epoch 3 valid accuracy : 55.423951\n"
     ]
    },
    {
     "data": {
      "application/vnd.jupyter.widget-view+json": {
       "model_id": "61b957bc1f674eb4a88b8ea51bd83c31",
       "version_major": 2,
       "version_minor": 0
      },
      "text/plain": [
       "  0%|          | 0/1 [00:00<?, ?it/s]"
      ]
     },
     "metadata": {},
     "output_type": "display_data"
    },
    {
     "data": {
      "application/vnd.jupyter.widget-view+json": {
       "model_id": "b5c21d108c0b4ee099d30dc2d546b9dc",
       "version_major": 2,
       "version_minor": 0
      },
      "text/plain": [
       "  0%|          | 0/1 [00:00<?, ?it/s]"
      ]
     },
     "metadata": {},
     "output_type": "display_data"
    },
    {
     "name": "stdout",
     "output_type": "stream",
     "text": [
      "Epoch 4 valid accuracy : 55.495965\n"
     ]
    },
    {
     "data": {
      "application/vnd.jupyter.widget-view+json": {
       "model_id": "580ef4231d654a2d816cdad08b58b086",
       "version_major": 2,
       "version_minor": 0
      },
      "text/plain": [
       "  0%|          | 0/1 [00:00<?, ?it/s]"
      ]
     },
     "metadata": {},
     "output_type": "display_data"
    },
    {
     "data": {
      "application/vnd.jupyter.widget-view+json": {
       "model_id": "d87b7ba2f29c4f0dbb4a658b2e7dca4e",
       "version_major": 2,
       "version_minor": 0
      },
      "text/plain": [
       "  0%|          | 0/1 [00:00<?, ?it/s]"
      ]
     },
     "metadata": {},
     "output_type": "display_data"
    },
    {
     "name": "stdout",
     "output_type": "stream",
     "text": [
      "Epoch 5 valid accuracy : 55.567223\n"
     ]
    },
    {
     "data": {
      "application/vnd.jupyter.widget-view+json": {
       "model_id": "ce34a757c1894976b5dfe84d1124dc18",
       "version_major": 2,
       "version_minor": 0
      },
      "text/plain": [
       "  0%|          | 0/1 [00:00<?, ?it/s]"
      ]
     },
     "metadata": {},
     "output_type": "display_data"
    },
    {
     "data": {
      "application/vnd.jupyter.widget-view+json": {
       "model_id": "b0cc08f271f84169b55b94f7a001c285",
       "version_major": 2,
       "version_minor": 0
      },
      "text/plain": [
       "  0%|          | 0/1 [00:00<?, ?it/s]"
      ]
     },
     "metadata": {},
     "output_type": "display_data"
    },
    {
     "name": "stdout",
     "output_type": "stream",
     "text": [
      "Epoch 6 valid accuracy : 55.637741\n"
     ]
    },
    {
     "data": {
      "application/vnd.jupyter.widget-view+json": {
       "model_id": "41ed7fd4c80747c88703e9d18d3d2899",
       "version_major": 2,
       "version_minor": 0
      },
      "text/plain": [
       "  0%|          | 0/1 [00:00<?, ?it/s]"
      ]
     },
     "metadata": {},
     "output_type": "display_data"
    },
    {
     "data": {
      "application/vnd.jupyter.widget-view+json": {
       "model_id": "a6b9daed313a415d962107cd373672fa",
       "version_major": 2,
       "version_minor": 0
      },
      "text/plain": [
       "  0%|          | 0/1 [00:00<?, ?it/s]"
      ]
     },
     "metadata": {},
     "output_type": "display_data"
    },
    {
     "name": "stdout",
     "output_type": "stream",
     "text": [
      "Epoch 7 valid accuracy : 55.707526\n"
     ]
    },
    {
     "data": {
      "application/vnd.jupyter.widget-view+json": {
       "model_id": "730978ed89db4081b10b407a5bf75953",
       "version_major": 2,
       "version_minor": 0
      },
      "text/plain": [
       "  0%|          | 0/1 [00:00<?, ?it/s]"
      ]
     },
     "metadata": {},
     "output_type": "display_data"
    },
    {
     "data": {
      "application/vnd.jupyter.widget-view+json": {
       "model_id": "ae17647f26aa49a4a02eeca08c6a8a71",
       "version_major": 2,
       "version_minor": 0
      },
      "text/plain": [
       "  0%|          | 0/1 [00:00<?, ?it/s]"
      ]
     },
     "metadata": {},
     "output_type": "display_data"
    },
    {
     "name": "stdout",
     "output_type": "stream",
     "text": [
      "Epoch 8 valid accuracy : 55.776572\n"
     ]
    },
    {
     "data": {
      "application/vnd.jupyter.widget-view+json": {
       "model_id": "4d0f3d78e25f450a81d39d91832b4a01",
       "version_major": 2,
       "version_minor": 0
      },
      "text/plain": [
       "  0%|          | 0/1 [00:00<?, ?it/s]"
      ]
     },
     "metadata": {},
     "output_type": "display_data"
    },
    {
     "data": {
      "application/vnd.jupyter.widget-view+json": {
       "model_id": "acf90cdd502d43e0aacd760453b5a725",
       "version_major": 2,
       "version_minor": 0
      },
      "text/plain": [
       "  0%|          | 0/1 [00:00<?, ?it/s]"
      ]
     },
     "metadata": {},
     "output_type": "display_data"
    },
    {
     "name": "stdout",
     "output_type": "stream",
     "text": [
      "Epoch 9 valid accuracy : 55.844879\n"
     ]
    },
    {
     "data": {
      "application/vnd.jupyter.widget-view+json": {
       "model_id": "d49f45877abd4ed7a254e13738ed0532",
       "version_major": 2,
       "version_minor": 0
      },
      "text/plain": [
       "  0%|          | 0/1 [00:00<?, ?it/s]"
      ]
     },
     "metadata": {},
     "output_type": "display_data"
    },
    {
     "data": {
      "application/vnd.jupyter.widget-view+json": {
       "model_id": "b2ade931446140f088eddffe7c5f0f76",
       "version_major": 2,
       "version_minor": 0
      },
      "text/plain": [
       "  0%|          | 0/1 [00:00<?, ?it/s]"
      ]
     },
     "metadata": {},
     "output_type": "display_data"
    },
    {
     "name": "stdout",
     "output_type": "stream",
     "text": [
      "Epoch 10 valid accuracy : 55.912447\n"
     ]
    },
    {
     "data": {
      "application/vnd.jupyter.widget-view+json": {
       "model_id": "a504a90fa8574638aac6f13719bca47b",
       "version_major": 2,
       "version_minor": 0
      },
      "text/plain": [
       "  0%|          | 0/1 [00:00<?, ?it/s]"
      ]
     },
     "metadata": {},
     "output_type": "display_data"
    },
    {
     "data": {
      "application/vnd.jupyter.widget-view+json": {
       "model_id": "59eaa4aba7c740d291d9a998351bce19",
       "version_major": 2,
       "version_minor": 0
      },
      "text/plain": [
       "  0%|          | 0/1 [00:00<?, ?it/s]"
      ]
     },
     "metadata": {},
     "output_type": "display_data"
    },
    {
     "name": "stdout",
     "output_type": "stream",
     "text": [
      "Epoch 11 valid accuracy : 55.979276\n"
     ]
    },
    {
     "data": {
      "application/vnd.jupyter.widget-view+json": {
       "model_id": "067dcb4d4ebb4141b9f1d42a6e71e312",
       "version_major": 2,
       "version_minor": 0
      },
      "text/plain": [
       "  0%|          | 0/1 [00:00<?, ?it/s]"
      ]
     },
     "metadata": {},
     "output_type": "display_data"
    },
    {
     "data": {
      "application/vnd.jupyter.widget-view+json": {
       "model_id": "154a3f685fc44255ac4711783bc8fc21",
       "version_major": 2,
       "version_minor": 0
      },
      "text/plain": [
       "  0%|          | 0/1 [00:00<?, ?it/s]"
      ]
     },
     "metadata": {},
     "output_type": "display_data"
    },
    {
     "name": "stdout",
     "output_type": "stream",
     "text": [
      "Epoch 12 valid accuracy : 56.045371\n"
     ]
    },
    {
     "data": {
      "application/vnd.jupyter.widget-view+json": {
       "model_id": "844f051dc8e846858dfb802b1cb6962d",
       "version_major": 2,
       "version_minor": 0
      },
      "text/plain": [
       "  0%|          | 0/1 [00:00<?, ?it/s]"
      ]
     },
     "metadata": {},
     "output_type": "display_data"
    },
    {
     "data": {
      "application/vnd.jupyter.widget-view+json": {
       "model_id": "06d12255736a4ea38cc740b126224701",
       "version_major": 2,
       "version_minor": 0
      },
      "text/plain": [
       "  0%|          | 0/1 [00:00<?, ?it/s]"
      ]
     },
     "metadata": {},
     "output_type": "display_data"
    },
    {
     "name": "stdout",
     "output_type": "stream",
     "text": [
      "Epoch 13 valid accuracy : 56.110746\n"
     ]
    },
    {
     "data": {
      "application/vnd.jupyter.widget-view+json": {
       "model_id": "12ddbc90be4b418b9a18d705ce663cd8",
       "version_major": 2,
       "version_minor": 0
      },
      "text/plain": [
       "  0%|          | 0/1 [00:00<?, ?it/s]"
      ]
     },
     "metadata": {},
     "output_type": "display_data"
    },
    {
     "data": {
      "application/vnd.jupyter.widget-view+json": {
       "model_id": "52be2432fe32428995fcf9276e20d1cc",
       "version_major": 2,
       "version_minor": 0
      },
      "text/plain": [
       "  0%|          | 0/1 [00:00<?, ?it/s]"
      ]
     },
     "metadata": {},
     "output_type": "display_data"
    },
    {
     "name": "stdout",
     "output_type": "stream",
     "text": [
      "Epoch 14 valid accuracy : 56.175375\n"
     ]
    },
    {
     "data": {
      "application/vnd.jupyter.widget-view+json": {
       "model_id": "4a50ee4174ec46efa38127c03e5179c9",
       "version_major": 2,
       "version_minor": 0
      },
      "text/plain": [
       "  0%|          | 0/1 [00:00<?, ?it/s]"
      ]
     },
     "metadata": {},
     "output_type": "display_data"
    },
    {
     "data": {
      "application/vnd.jupyter.widget-view+json": {
       "model_id": "a769ba9d9c9c4b4bb0d6df6be5f3ee88",
       "version_major": 2,
       "version_minor": 0
      },
      "text/plain": [
       "  0%|          | 0/1 [00:00<?, ?it/s]"
      ]
     },
     "metadata": {},
     "output_type": "display_data"
    },
    {
     "name": "stdout",
     "output_type": "stream",
     "text": [
      "Epoch 15 valid accuracy : 56.239277\n"
     ]
    },
    {
     "data": {
      "application/vnd.jupyter.widget-view+json": {
       "model_id": "a22f142fd63a450a8312a61f6b238efa",
       "version_major": 2,
       "version_minor": 0
      },
      "text/plain": [
       "  0%|          | 0/1 [00:00<?, ?it/s]"
      ]
     },
     "metadata": {},
     "output_type": "display_data"
    },
    {
     "data": {
      "application/vnd.jupyter.widget-view+json": {
       "model_id": "8925c1d075b44df0a950a16ac0186c7d",
       "version_major": 2,
       "version_minor": 0
      },
      "text/plain": [
       "  0%|          | 0/1 [00:00<?, ?it/s]"
      ]
     },
     "metadata": {},
     "output_type": "display_data"
    },
    {
     "name": "stdout",
     "output_type": "stream",
     "text": [
      "Epoch 16 valid accuracy : 56.302452\n"
     ]
    },
    {
     "data": {
      "application/vnd.jupyter.widget-view+json": {
       "model_id": "dd9d912362d0495086240f43303a688d",
       "version_major": 2,
       "version_minor": 0
      },
      "text/plain": [
       "  0%|          | 0/1 [00:00<?, ?it/s]"
      ]
     },
     "metadata": {},
     "output_type": "display_data"
    },
    {
     "data": {
      "application/vnd.jupyter.widget-view+json": {
       "model_id": "25d5918fa029489ab698b49b367592e7",
       "version_major": 2,
       "version_minor": 0
      },
      "text/plain": [
       "  0%|          | 0/1 [00:00<?, ?it/s]"
      ]
     },
     "metadata": {},
     "output_type": "display_data"
    },
    {
     "name": "stdout",
     "output_type": "stream",
     "text": [
      "Epoch 17 valid accuracy : 56.364900\n"
     ]
    },
    {
     "data": {
      "application/vnd.jupyter.widget-view+json": {
       "model_id": "96792c895b034d9eb4735f363834e171",
       "version_major": 2,
       "version_minor": 0
      },
      "text/plain": [
       "  0%|          | 0/1 [00:00<?, ?it/s]"
      ]
     },
     "metadata": {},
     "output_type": "display_data"
    },
    {
     "data": {
      "application/vnd.jupyter.widget-view+json": {
       "model_id": "8e3e7988bc82409ca5938ba24f27483a",
       "version_major": 2,
       "version_minor": 0
      },
      "text/plain": [
       "  0%|          | 0/1 [00:00<?, ?it/s]"
      ]
     },
     "metadata": {},
     "output_type": "display_data"
    },
    {
     "name": "stdout",
     "output_type": "stream",
     "text": [
      "Epoch 18 valid accuracy : 56.426632\n"
     ]
    },
    {
     "data": {
      "application/vnd.jupyter.widget-view+json": {
       "model_id": "45f222ce8f78401bad53996646ed506c",
       "version_major": 2,
       "version_minor": 0
      },
      "text/plain": [
       "  0%|          | 0/1 [00:00<?, ?it/s]"
      ]
     },
     "metadata": {},
     "output_type": "display_data"
    },
    {
     "data": {
      "application/vnd.jupyter.widget-view+json": {
       "model_id": "d5583ddfbbf24bae9b457ad7b193140e",
       "version_major": 2,
       "version_minor": 0
      },
      "text/plain": [
       "  0%|          | 0/1 [00:00<?, ?it/s]"
      ]
     },
     "metadata": {},
     "output_type": "display_data"
    },
    {
     "name": "stdout",
     "output_type": "stream",
     "text": [
      "Epoch 19 valid accuracy : 56.487638\n"
     ]
    },
    {
     "data": {
      "application/vnd.jupyter.widget-view+json": {
       "model_id": "cc362de85820466ab5f00bf936ea9073",
       "version_major": 2,
       "version_minor": 0
      },
      "text/plain": [
       "  0%|          | 0/1 [00:00<?, ?it/s]"
      ]
     },
     "metadata": {},
     "output_type": "display_data"
    },
    {
     "data": {
      "application/vnd.jupyter.widget-view+json": {
       "model_id": "42607a01d7ed421193288edbc742e55b",
       "version_major": 2,
       "version_minor": 0
      },
      "text/plain": [
       "  0%|          | 0/1 [00:00<?, ?it/s]"
      ]
     },
     "metadata": {},
     "output_type": "display_data"
    },
    {
     "name": "stdout",
     "output_type": "stream",
     "text": [
      "Epoch 20 valid accuracy : 56.547910\n"
     ]
    },
    {
     "data": {
      "application/vnd.jupyter.widget-view+json": {
       "model_id": "dfbde336622f403e84833d55d25da689",
       "version_major": 2,
       "version_minor": 0
      },
      "text/plain": [
       "  0%|          | 0/1 [00:00<?, ?it/s]"
      ]
     },
     "metadata": {},
     "output_type": "display_data"
    },
    {
     "data": {
      "application/vnd.jupyter.widget-view+json": {
       "model_id": "ee183caec1c648b3a4fc5b3ffec86ea2",
       "version_major": 2,
       "version_minor": 0
      },
      "text/plain": [
       "  0%|          | 0/1 [00:00<?, ?it/s]"
      ]
     },
     "metadata": {},
     "output_type": "display_data"
    },
    {
     "name": "stdout",
     "output_type": "stream",
     "text": [
      "Epoch 21 valid accuracy : 56.607485\n"
     ]
    },
    {
     "data": {
      "application/vnd.jupyter.widget-view+json": {
       "model_id": "66b8638eabcf4c7b8563f15bd4900603",
       "version_major": 2,
       "version_minor": 0
      },
      "text/plain": [
       "  0%|          | 0/1 [00:00<?, ?it/s]"
      ]
     },
     "metadata": {},
     "output_type": "display_data"
    },
    {
     "data": {
      "application/vnd.jupyter.widget-view+json": {
       "model_id": "35fcdba5591646c6aeda55f03cdeee2f",
       "version_major": 2,
       "version_minor": 0
      },
      "text/plain": [
       "  0%|          | 0/1 [00:00<?, ?it/s]"
      ]
     },
     "metadata": {},
     "output_type": "display_data"
    },
    {
     "name": "stdout",
     "output_type": "stream",
     "text": [
      "Epoch 22 valid accuracy : 56.666327\n"
     ]
    },
    {
     "data": {
      "application/vnd.jupyter.widget-view+json": {
       "model_id": "7c8286456db24ddcaac22a1eae2a5a24",
       "version_major": 2,
       "version_minor": 0
      },
      "text/plain": [
       "  0%|          | 0/1 [00:00<?, ?it/s]"
      ]
     },
     "metadata": {},
     "output_type": "display_data"
    },
    {
     "data": {
      "application/vnd.jupyter.widget-view+json": {
       "model_id": "e6f2c2c022a34defb9ec7ee820f1c32a",
       "version_major": 2,
       "version_minor": 0
      },
      "text/plain": [
       "  0%|          | 0/1 [00:00<?, ?it/s]"
      ]
     },
     "metadata": {},
     "output_type": "display_data"
    },
    {
     "name": "stdout",
     "output_type": "stream",
     "text": [
      "Epoch 23 valid accuracy : 56.724465\n"
     ]
    },
    {
     "data": {
      "application/vnd.jupyter.widget-view+json": {
       "model_id": "46e0a6b54a9845a69dc5db385e07ef30",
       "version_major": 2,
       "version_minor": 0
      },
      "text/plain": [
       "  0%|          | 0/1 [00:00<?, ?it/s]"
      ]
     },
     "metadata": {},
     "output_type": "display_data"
    },
    {
     "data": {
      "application/vnd.jupyter.widget-view+json": {
       "model_id": "89969e78f6734b61bf585ef1d1fffdb6",
       "version_major": 2,
       "version_minor": 0
      },
      "text/plain": [
       "  0%|          | 0/1 [00:00<?, ?it/s]"
      ]
     },
     "metadata": {},
     "output_type": "display_data"
    },
    {
     "name": "stdout",
     "output_type": "stream",
     "text": [
      "Epoch 24 valid accuracy : 56.781894\n"
     ]
    },
    {
     "data": {
      "application/vnd.jupyter.widget-view+json": {
       "model_id": "60d8f27170154aed9f678c7fa8c8ed9f",
       "version_major": 2,
       "version_minor": 0
      },
      "text/plain": [
       "  0%|          | 0/1 [00:00<?, ?it/s]"
      ]
     },
     "metadata": {},
     "output_type": "display_data"
    },
    {
     "data": {
      "application/vnd.jupyter.widget-view+json": {
       "model_id": "6991b77767f144fe9225c4e3cf72da0a",
       "version_major": 2,
       "version_minor": 0
      },
      "text/plain": [
       "  0%|          | 0/1 [00:00<?, ?it/s]"
      ]
     },
     "metadata": {},
     "output_type": "display_data"
    },
    {
     "name": "stdout",
     "output_type": "stream",
     "text": [
      "Epoch 25 valid accuracy : 56.838602\n"
     ]
    },
    {
     "data": {
      "application/vnd.jupyter.widget-view+json": {
       "model_id": "84011ba790e744d8b44f9bb57c717bf8",
       "version_major": 2,
       "version_minor": 0
      },
      "text/plain": [
       "  0%|          | 0/1 [00:00<?, ?it/s]"
      ]
     },
     "metadata": {},
     "output_type": "display_data"
    },
    {
     "data": {
      "application/vnd.jupyter.widget-view+json": {
       "model_id": "bff54d6cd1a648c8899399277230a507",
       "version_major": 2,
       "version_minor": 0
      },
      "text/plain": [
       "  0%|          | 0/1 [00:00<?, ?it/s]"
      ]
     },
     "metadata": {},
     "output_type": "display_data"
    },
    {
     "name": "stdout",
     "output_type": "stream",
     "text": [
      "Epoch 26 valid accuracy : 56.894612\n"
     ]
    },
    {
     "data": {
      "application/vnd.jupyter.widget-view+json": {
       "model_id": "b097b6dd4fb64a3dbaf51c0c0cfb761d",
       "version_major": 2,
       "version_minor": 0
      },
      "text/plain": [
       "  0%|          | 0/1 [00:00<?, ?it/s]"
      ]
     },
     "metadata": {},
     "output_type": "display_data"
    },
    {
     "data": {
      "application/vnd.jupyter.widget-view+json": {
       "model_id": "315b349189c04540be8fd6f5b8db3973",
       "version_major": 2,
       "version_minor": 0
      },
      "text/plain": [
       "  0%|          | 0/1 [00:00<?, ?it/s]"
      ]
     },
     "metadata": {},
     "output_type": "display_data"
    },
    {
     "name": "stdout",
     "output_type": "stream",
     "text": [
      "Epoch 27 valid accuracy : 56.949919\n"
     ]
    },
    {
     "data": {
      "application/vnd.jupyter.widget-view+json": {
       "model_id": "c2412aea3946404b80cb6dbd9d8f39e5",
       "version_major": 2,
       "version_minor": 0
      },
      "text/plain": [
       "  0%|          | 0/1 [00:00<?, ?it/s]"
      ]
     },
     "metadata": {},
     "output_type": "display_data"
    },
    {
     "data": {
      "application/vnd.jupyter.widget-view+json": {
       "model_id": "b23a932ca79340c98635befb61987792",
       "version_major": 2,
       "version_minor": 0
      },
      "text/plain": [
       "  0%|          | 0/1 [00:00<?, ?it/s]"
      ]
     },
     "metadata": {},
     "output_type": "display_data"
    },
    {
     "name": "stdout",
     "output_type": "stream",
     "text": [
      "Epoch 28 valid accuracy : 57.004517\n"
     ]
    },
    {
     "data": {
      "application/vnd.jupyter.widget-view+json": {
       "model_id": "41227d5985bb45c196e27125cb11a854",
       "version_major": 2,
       "version_minor": 0
      },
      "text/plain": [
       "  0%|          | 0/1 [00:00<?, ?it/s]"
      ]
     },
     "metadata": {},
     "output_type": "display_data"
    },
    {
     "data": {
      "application/vnd.jupyter.widget-view+json": {
       "model_id": "4f65ac56dd7640b9b74e4a3815833252",
       "version_major": 2,
       "version_minor": 0
      },
      "text/plain": [
       "  0%|          | 0/1 [00:00<?, ?it/s]"
      ]
     },
     "metadata": {},
     "output_type": "display_data"
    },
    {
     "name": "stdout",
     "output_type": "stream",
     "text": [
      "Epoch 29 valid accuracy : 57.058412\n"
     ]
    },
    {
     "data": {
      "application/vnd.jupyter.widget-view+json": {
       "model_id": "b53caaced2e74e14aeeb22f84f6c5a14",
       "version_major": 2,
       "version_minor": 0
      },
      "text/plain": [
       "  0%|          | 0/1 [00:00<?, ?it/s]"
      ]
     },
     "metadata": {},
     "output_type": "display_data"
    },
    {
     "data": {
      "application/vnd.jupyter.widget-view+json": {
       "model_id": "c0a94f6950984acab874c9d896e03ce6",
       "version_major": 2,
       "version_minor": 0
      },
      "text/plain": [
       "  0%|          | 0/1 [00:00<?, ?it/s]"
      ]
     },
     "metadata": {},
     "output_type": "display_data"
    },
    {
     "name": "stdout",
     "output_type": "stream",
     "text": [
      "Epoch 30 valid accuracy : 57.111627\n"
     ]
    },
    {
     "data": {
      "application/vnd.jupyter.widget-view+json": {
       "model_id": "ea8daa27f9094d44a5ee11ce05d4efef",
       "version_major": 2,
       "version_minor": 0
      },
      "text/plain": [
       "  0%|          | 0/1 [00:00<?, ?it/s]"
      ]
     },
     "metadata": {},
     "output_type": "display_data"
    },
    {
     "data": {
      "application/vnd.jupyter.widget-view+json": {
       "model_id": "94275942f9d34a24828ebd9b08aa5111",
       "version_major": 2,
       "version_minor": 0
      },
      "text/plain": [
       "  0%|          | 0/1 [00:00<?, ?it/s]"
      ]
     },
     "metadata": {},
     "output_type": "display_data"
    },
    {
     "name": "stdout",
     "output_type": "stream",
     "text": [
      "Epoch 31 valid accuracy : 57.164145\n"
     ]
    },
    {
     "data": {
      "application/vnd.jupyter.widget-view+json": {
       "model_id": "f624c8ff9452484aaa2e40b87ebf31f9",
       "version_major": 2,
       "version_minor": 0
      },
      "text/plain": [
       "  0%|          | 0/1 [00:00<?, ?it/s]"
      ]
     },
     "metadata": {},
     "output_type": "display_data"
    },
    {
     "data": {
      "application/vnd.jupyter.widget-view+json": {
       "model_id": "3a8f2533170c4c0faaf8a1e68d53575c",
       "version_major": 2,
       "version_minor": 0
      },
      "text/plain": [
       "  0%|          | 0/1 [00:00<?, ?it/s]"
      ]
     },
     "metadata": {},
     "output_type": "display_data"
    },
    {
     "name": "stdout",
     "output_type": "stream",
     "text": [
      "Epoch 32 valid accuracy : 57.215971\n"
     ]
    },
    {
     "data": {
      "application/vnd.jupyter.widget-view+json": {
       "model_id": "d3d565b491a44afea5a2f2f1f3056e85",
       "version_major": 2,
       "version_minor": 0
      },
      "text/plain": [
       "  0%|          | 0/1 [00:00<?, ?it/s]"
      ]
     },
     "metadata": {},
     "output_type": "display_data"
    },
    {
     "data": {
      "application/vnd.jupyter.widget-view+json": {
       "model_id": "27217d390f594903b6ce10d54b75422d",
       "version_major": 2,
       "version_minor": 0
      },
      "text/plain": [
       "  0%|          | 0/1 [00:00<?, ?it/s]"
      ]
     },
     "metadata": {},
     "output_type": "display_data"
    },
    {
     "name": "stdout",
     "output_type": "stream",
     "text": [
      "Epoch 33 valid accuracy : 57.267118\n"
     ]
    },
    {
     "data": {
      "application/vnd.jupyter.widget-view+json": {
       "model_id": "1dbb92e99abd48e4b43cd455babd8eeb",
       "version_major": 2,
       "version_minor": 0
      },
      "text/plain": [
       "  0%|          | 0/1 [00:00<?, ?it/s]"
      ]
     },
     "metadata": {},
     "output_type": "display_data"
    },
    {
     "data": {
      "application/vnd.jupyter.widget-view+json": {
       "model_id": "fda21f19508749c0b14055ca6c103296",
       "version_major": 2,
       "version_minor": 0
      },
      "text/plain": [
       "  0%|          | 0/1 [00:00<?, ?it/s]"
      ]
     },
     "metadata": {},
     "output_type": "display_data"
    },
    {
     "name": "stdout",
     "output_type": "stream",
     "text": [
      "Epoch 34 valid accuracy : 57.317585\n"
     ]
    },
    {
     "data": {
      "application/vnd.jupyter.widget-view+json": {
       "model_id": "51e637beac1a4442b924634ecdf9d6da",
       "version_major": 2,
       "version_minor": 0
      },
      "text/plain": [
       "  0%|          | 0/1 [00:00<?, ?it/s]"
      ]
     },
     "metadata": {},
     "output_type": "display_data"
    },
    {
     "data": {
      "application/vnd.jupyter.widget-view+json": {
       "model_id": "c93f5ae483274eb391083be6e85ebf8b",
       "version_major": 2,
       "version_minor": 0
      },
      "text/plain": [
       "  0%|          | 0/1 [00:00<?, ?it/s]"
      ]
     },
     "metadata": {},
     "output_type": "display_data"
    },
    {
     "name": "stdout",
     "output_type": "stream",
     "text": [
      "Epoch 35 valid accuracy : 57.367373\n"
     ]
    },
    {
     "data": {
      "application/vnd.jupyter.widget-view+json": {
       "model_id": "f9c0a87dbf6847a68f46cbff5f1820df",
       "version_major": 2,
       "version_minor": 0
      },
      "text/plain": [
       "  0%|          | 0/1 [00:00<?, ?it/s]"
      ]
     },
     "metadata": {},
     "output_type": "display_data"
    },
    {
     "data": {
      "application/vnd.jupyter.widget-view+json": {
       "model_id": "dc22b76e4db34e2ebac5db1d58c8fbd3",
       "version_major": 2,
       "version_minor": 0
      },
      "text/plain": [
       "  0%|          | 0/1 [00:00<?, ?it/s]"
      ]
     },
     "metadata": {},
     "output_type": "display_data"
    },
    {
     "name": "stdout",
     "output_type": "stream",
     "text": [
      "Epoch 36 valid accuracy : 57.416475\n"
     ]
    },
    {
     "data": {
      "application/vnd.jupyter.widget-view+json": {
       "model_id": "98e7b60675854badb77eccacc428c9f4",
       "version_major": 2,
       "version_minor": 0
      },
      "text/plain": [
       "  0%|          | 0/1 [00:00<?, ?it/s]"
      ]
     },
     "metadata": {},
     "output_type": "display_data"
    },
    {
     "data": {
      "application/vnd.jupyter.widget-view+json": {
       "model_id": "ece2915f31e24ce081611de33f87c47a",
       "version_major": 2,
       "version_minor": 0
      },
      "text/plain": [
       "  0%|          | 0/1 [00:00<?, ?it/s]"
      ]
     },
     "metadata": {},
     "output_type": "display_data"
    },
    {
     "name": "stdout",
     "output_type": "stream",
     "text": [
      "Epoch 37 valid accuracy : 57.464921\n"
     ]
    },
    {
     "data": {
      "application/vnd.jupyter.widget-view+json": {
       "model_id": "b975c5c9e0364636929e7cd03eba2328",
       "version_major": 2,
       "version_minor": 0
      },
      "text/plain": [
       "  0%|          | 0/1 [00:00<?, ?it/s]"
      ]
     },
     "metadata": {},
     "output_type": "display_data"
    },
    {
     "data": {
      "application/vnd.jupyter.widget-view+json": {
       "model_id": "f2f55b46ffe24a389504c6cb10c9bf55",
       "version_major": 2,
       "version_minor": 0
      },
      "text/plain": [
       "  0%|          | 0/1 [00:00<?, ?it/s]"
      ]
     },
     "metadata": {},
     "output_type": "display_data"
    },
    {
     "name": "stdout",
     "output_type": "stream",
     "text": [
      "Epoch 38 valid accuracy : 57.512701\n"
     ]
    },
    {
     "data": {
      "application/vnd.jupyter.widget-view+json": {
       "model_id": "e3b0e634081c436089267ed1926ee2e8",
       "version_major": 2,
       "version_minor": 0
      },
      "text/plain": [
       "  0%|          | 0/1 [00:00<?, ?it/s]"
      ]
     },
     "metadata": {},
     "output_type": "display_data"
    },
    {
     "data": {
      "application/vnd.jupyter.widget-view+json": {
       "model_id": "375427b503634ebd812e6d879a3e285b",
       "version_major": 2,
       "version_minor": 0
      },
      "text/plain": [
       "  0%|          | 0/1 [00:00<?, ?it/s]"
      ]
     },
     "metadata": {},
     "output_type": "display_data"
    },
    {
     "name": "stdout",
     "output_type": "stream",
     "text": [
      "Epoch 39 valid accuracy : 57.559812\n"
     ]
    },
    {
     "data": {
      "application/vnd.jupyter.widget-view+json": {
       "model_id": "43ed19465b9e41fcbc40758ea31ebdf1",
       "version_major": 2,
       "version_minor": 0
      },
      "text/plain": [
       "  0%|          | 0/1 [00:00<?, ?it/s]"
      ]
     },
     "metadata": {},
     "output_type": "display_data"
    },
    {
     "data": {
      "application/vnd.jupyter.widget-view+json": {
       "model_id": "6ec48f1a51ba41acadbb3493d29bb587",
       "version_major": 2,
       "version_minor": 0
      },
      "text/plain": [
       "  0%|          | 0/1 [00:00<?, ?it/s]"
      ]
     },
     "metadata": {},
     "output_type": "display_data"
    },
    {
     "name": "stdout",
     "output_type": "stream",
     "text": [
      "Epoch 40 valid accuracy : 57.606256\n"
     ]
    },
    {
     "data": {
      "application/vnd.jupyter.widget-view+json": {
       "model_id": "92df80f528aa40a7b521f1495602191e",
       "version_major": 2,
       "version_minor": 0
      },
      "text/plain": [
       "  0%|          | 0/1 [00:00<?, ?it/s]"
      ]
     },
     "metadata": {},
     "output_type": "display_data"
    },
    {
     "data": {
      "application/vnd.jupyter.widget-view+json": {
       "model_id": "c6f1e500f32b45eba23c3f26884ec46b",
       "version_major": 2,
       "version_minor": 0
      },
      "text/plain": [
       "  0%|          | 0/1 [00:00<?, ?it/s]"
      ]
     },
     "metadata": {},
     "output_type": "display_data"
    },
    {
     "name": "stdout",
     "output_type": "stream",
     "text": [
      "Epoch 41 valid accuracy : 57.652056\n"
     ]
    },
    {
     "data": {
      "application/vnd.jupyter.widget-view+json": {
       "model_id": "85ed76c0695247d190bece2b5312c76f",
       "version_major": 2,
       "version_minor": 0
      },
      "text/plain": [
       "  0%|          | 0/1 [00:00<?, ?it/s]"
      ]
     },
     "metadata": {},
     "output_type": "display_data"
    },
    {
     "data": {
      "application/vnd.jupyter.widget-view+json": {
       "model_id": "af1d7e8ffd264c15914b487dc4fb0b4c",
       "version_major": 2,
       "version_minor": 0
      },
      "text/plain": [
       "  0%|          | 0/1 [00:00<?, ?it/s]"
      ]
     },
     "metadata": {},
     "output_type": "display_data"
    },
    {
     "name": "stdout",
     "output_type": "stream",
     "text": [
      "Epoch 42 valid accuracy : 57.697213\n"
     ]
    },
    {
     "data": {
      "application/vnd.jupyter.widget-view+json": {
       "model_id": "386469c4e86a4637a822de84e98d7337",
       "version_major": 2,
       "version_minor": 0
      },
      "text/plain": [
       "  0%|          | 0/1 [00:00<?, ?it/s]"
      ]
     },
     "metadata": {},
     "output_type": "display_data"
    },
    {
     "data": {
      "application/vnd.jupyter.widget-view+json": {
       "model_id": "51abd41ebc46494db9982b53c03626f5",
       "version_major": 2,
       "version_minor": 0
      },
      "text/plain": [
       "  0%|          | 0/1 [00:00<?, ?it/s]"
      ]
     },
     "metadata": {},
     "output_type": "display_data"
    },
    {
     "name": "stdout",
     "output_type": "stream",
     "text": [
      "Epoch 43 valid accuracy : 57.741719\n"
     ]
    },
    {
     "data": {
      "application/vnd.jupyter.widget-view+json": {
       "model_id": "7da9ef2f55094b19a4c25b7bae3e84b5",
       "version_major": 2,
       "version_minor": 0
      },
      "text/plain": [
       "  0%|          | 0/1 [00:00<?, ?it/s]"
      ]
     },
     "metadata": {},
     "output_type": "display_data"
    },
    {
     "data": {
      "application/vnd.jupyter.widget-view+json": {
       "model_id": "94d2a8d6ba52443fa0fdfbdccb0c9f00",
       "version_major": 2,
       "version_minor": 0
      },
      "text/plain": [
       "  0%|          | 0/1 [00:00<?, ?it/s]"
      ]
     },
     "metadata": {},
     "output_type": "display_data"
    },
    {
     "name": "stdout",
     "output_type": "stream",
     "text": [
      "Epoch 44 valid accuracy : 57.785589\n"
     ]
    },
    {
     "data": {
      "application/vnd.jupyter.widget-view+json": {
       "model_id": "1c20828cb5694cc0abdcf88bf3e219ba",
       "version_major": 2,
       "version_minor": 0
      },
      "text/plain": [
       "  0%|          | 0/1 [00:00<?, ?it/s]"
      ]
     },
     "metadata": {},
     "output_type": "display_data"
    },
    {
     "data": {
      "application/vnd.jupyter.widget-view+json": {
       "model_id": "4c275cb7ebe747e9aac2dc800a4bcfed",
       "version_major": 2,
       "version_minor": 0
      },
      "text/plain": [
       "  0%|          | 0/1 [00:00<?, ?it/s]"
      ]
     },
     "metadata": {},
     "output_type": "display_data"
    },
    {
     "name": "stdout",
     "output_type": "stream",
     "text": [
      "Epoch 45 valid accuracy : 57.828820\n"
     ]
    },
    {
     "data": {
      "application/vnd.jupyter.widget-view+json": {
       "model_id": "9c3fdb4ac02e40539414b6fc14cd5012",
       "version_major": 2,
       "version_minor": 0
      },
      "text/plain": [
       "  0%|          | 0/1 [00:00<?, ?it/s]"
      ]
     },
     "metadata": {},
     "output_type": "display_data"
    },
    {
     "data": {
      "application/vnd.jupyter.widget-view+json": {
       "model_id": "c5df12bd614a43de862802427e77fdfc",
       "version_major": 2,
       "version_minor": 0
      },
      "text/plain": [
       "  0%|          | 0/1 [00:00<?, ?it/s]"
      ]
     },
     "metadata": {},
     "output_type": "display_data"
    },
    {
     "name": "stdout",
     "output_type": "stream",
     "text": [
      "Epoch 46 valid accuracy : 57.871419\n"
     ]
    },
    {
     "data": {
      "application/vnd.jupyter.widget-view+json": {
       "model_id": "044065d25af5426ea2204bf5d99d73cc",
       "version_major": 2,
       "version_minor": 0
      },
      "text/plain": [
       "  0%|          | 0/1 [00:00<?, ?it/s]"
      ]
     },
     "metadata": {},
     "output_type": "display_data"
    },
    {
     "data": {
      "application/vnd.jupyter.widget-view+json": {
       "model_id": "38948b90c16a44eaae139c673016e0e1",
       "version_major": 2,
       "version_minor": 0
      },
      "text/plain": [
       "  0%|          | 0/1 [00:00<?, ?it/s]"
      ]
     },
     "metadata": {},
     "output_type": "display_data"
    },
    {
     "name": "stdout",
     "output_type": "stream",
     "text": [
      "Epoch 47 valid accuracy : 57.913393\n"
     ]
    },
    {
     "data": {
      "application/vnd.jupyter.widget-view+json": {
       "model_id": "570da262232449029a9f462b8395cf2f",
       "version_major": 2,
       "version_minor": 0
      },
      "text/plain": [
       "  0%|          | 0/1 [00:00<?, ?it/s]"
      ]
     },
     "metadata": {},
     "output_type": "display_data"
    },
    {
     "data": {
      "application/vnd.jupyter.widget-view+json": {
       "model_id": "b7f8cd7892c6412d9ffb76e3a6bad8ae",
       "version_major": 2,
       "version_minor": 0
      },
      "text/plain": [
       "  0%|          | 0/1 [00:00<?, ?it/s]"
      ]
     },
     "metadata": {},
     "output_type": "display_data"
    },
    {
     "name": "stdout",
     "output_type": "stream",
     "text": [
      "Epoch 48 valid accuracy : 57.954746\n"
     ]
    },
    {
     "data": {
      "application/vnd.jupyter.widget-view+json": {
       "model_id": "692bc1f2afdf4ef78f465dd54fc77682",
       "version_major": 2,
       "version_minor": 0
      },
      "text/plain": [
       "  0%|          | 0/1 [00:00<?, ?it/s]"
      ]
     },
     "metadata": {},
     "output_type": "display_data"
    },
    {
     "data": {
      "application/vnd.jupyter.widget-view+json": {
       "model_id": "5c62c929dc874b00838824ca0d9bc6f9",
       "version_major": 2,
       "version_minor": 0
      },
      "text/plain": [
       "  0%|          | 0/1 [00:00<?, ?it/s]"
      ]
     },
     "metadata": {},
     "output_type": "display_data"
    },
    {
     "name": "stdout",
     "output_type": "stream",
     "text": [
      "Epoch 49 valid accuracy : 57.995492\n"
     ]
    }
   ],
   "source": [
    "for epoch in range(50):\n",
    "  # Training step\n",
    "  trn_losses = []\n",
    "  pbartrn = tqdm(range(len(trndataset)), total = len(trndataset))\n",
    "  model.train()\n",
    "  for step in pbartrn: \n",
    "    optimizer.zero_grad() # Zero gradients each step \n",
    "    # Run through the model, get the loss and make a gradient descent step\n",
    "    (x,y) = trndataset.__getitem__(step)\n",
    "    out = model(x)\n",
    "    loss = criterion(out, y)\n",
    "    loss.backward()\n",
    "    optimizer.step()\n",
    "    trn_losses.append(loss.item())\n",
    "    pbartrn.set_description(f'Epoch {epoch} train loss: {sum(trn_losses)/(1+step) :.4f}')\n",
    "\n",
    "  # Validation step\n",
    "  pbarval = tqdm(range(len(valdataset)), total = len(valdataset))\n",
    "  model.eval()\n",
    "  val_losses = []\n",
    "  preds = []\n",
    "  for step in pbarval: \n",
    "    # Run through the model, get the loss; note, we do not need gradients during inference\n",
    "    (x,y) = valdataset.__getitem__(step)\n",
    "    with torch.no_grad():\n",
    "      out = model(x)\n",
    "    preds.append(out.detach().cpu())\n",
    "    loss = criterion(out, y)\n",
    "    val_losses.append(loss.item())\n",
    "    pbarval.set_description(f'Epoch {epoch} valid loss: {sum(val_losses)/(1+step) :.4f}')\n",
    "\n",
    "  y_pred = np.concatenate(preds)\n",
    "\n",
    "  # printing the valid auc causes the code to produce an error\n",
    "  #print(f'Epoch {epoch} valid auc : {roc_auc_score(y_val, y_pred):.4f}')\n",
    "  #print(f'Epoch {epoch} valid f1 : {f1_score(y_val, y_pred):.4f}')\n",
    "  print(f'Epoch {epoch} valid accuracy : {y_pred.mean() * 100:f}')\n",
    "  "
   ]
  },
  {
   "cell_type": "code",
   "execution_count": null,
   "id": "4c29be2c",
   "metadata": {},
   "outputs": [],
   "source": []
  },
  {
   "cell_type": "code",
   "execution_count": null,
   "id": "a38b328a",
   "metadata": {},
   "outputs": [],
   "source": []
  },
  {
   "cell_type": "code",
   "execution_count": null,
   "id": "4d8c984a",
   "metadata": {},
   "outputs": [],
   "source": []
  },
  {
   "cell_type": "code",
   "execution_count": null,
   "id": "379daa32",
   "metadata": {},
   "outputs": [],
   "source": []
  },
  {
   "cell_type": "code",
   "execution_count": null,
   "id": "73e29549",
   "metadata": {},
   "outputs": [],
   "source": []
  },
  {
   "cell_type": "code",
   "execution_count": 21,
   "id": "cae3fd93",
   "metadata": {},
   "outputs": [],
   "source": []
  },
  {
   "cell_type": "code",
   "execution_count": 22,
   "id": "e236091f",
   "metadata": {},
   "outputs": [],
   "source": []
  },
  {
   "cell_type": "code",
   "execution_count": 24,
   "id": "3541f117",
   "metadata": {},
   "outputs": [],
   "source": []
  },
  {
   "cell_type": "code",
   "execution_count": 25,
   "id": "8449b05c",
   "metadata": {},
   "outputs": [],
   "source": []
  },
  {
   "cell_type": "code",
   "execution_count": 26,
   "id": "72951621",
   "metadata": {},
   "outputs": [],
   "source": []
  },
  {
   "cell_type": "code",
   "execution_count": 43,
   "id": "ce0f2bc0",
   "metadata": {},
   "outputs": [],
   "source": []
  },
  {
   "cell_type": "code",
   "execution_count": null,
   "id": "e1b222a3",
   "metadata": {},
   "outputs": [],
   "source": []
  },
  {
   "cell_type": "code",
   "execution_count": null,
   "id": "c2a477b7",
   "metadata": {},
   "outputs": [],
   "source": []
  },
  {
   "cell_type": "code",
   "execution_count": null,
   "id": "806cc1b3",
   "metadata": {},
   "outputs": [],
   "source": []
  },
  {
   "cell_type": "code",
   "execution_count": null,
   "id": "22e074ae",
   "metadata": {},
   "outputs": [],
   "source": []
  }
 ],
 "metadata": {
  "kernelspec": {
   "display_name": "Python 3 (ipykernel)",
   "language": "python",
   "name": "python3"
  },
  "language_info": {
   "codemirror_mode": {
    "name": "ipython",
    "version": 3
   },
   "file_extension": ".py",
   "mimetype": "text/x-python",
   "name": "python",
   "nbconvert_exporter": "python",
   "pygments_lexer": "ipython3",
   "version": "3.9.7"
  }
 },
 "nbformat": 4,
 "nbformat_minor": 5
}
