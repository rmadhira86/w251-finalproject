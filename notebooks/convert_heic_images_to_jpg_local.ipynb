{
 "cells": [
  {
   "cell_type": "markdown",
   "metadata": {},
   "source": [
    "# Install Dependencies"
   ]
  },
  {
   "cell_type": "code",
   "execution_count": 26,
   "metadata": {},
   "outputs": [],
   "source": [
    "import os, os.path\n",
    "#!pip3 install heic-to-jpg"
   ]
  },
  {
   "cell_type": "code",
   "execution_count": 27,
   "metadata": {},
   "outputs": [],
   "source": [
    "# Install dependencies via terminal \n",
    "\n",
    "#Install Xcode tools: https://developer.apple.com/download/all/?q=command%20line%20tools \n",
    "#        (Command Line Tools for Xcode 13.2)\n",
    "\n",
    "#brew install ghostscript\n",
    "#brew install imagemagick"
   ]
  },
  {
   "cell_type": "code",
   "execution_count": 198,
   "metadata": {},
   "outputs": [
    {
     "name": "stdout",
     "output_type": "stream",
     "text": [
      "/Users/ryanmitchell/Desktop/w251/final_project/original_images\n"
     ]
    }
   ],
   "source": [
    "# Download images to local machine via Qualtrics survey:\n",
    "#https://berkeley.ca1.qualtrics.com/responses/#/surveys/SV_elmD0hOePGKoOrQ\n",
    "\n",
    "# Change into directory with all of the original imges\n",
    "%cd /Users/ryanmitchell/Desktop/w251/final_project/original_images"
   ]
  },
  {
   "cell_type": "code",
   "execution_count": 199,
   "metadata": {},
   "outputs": [
    {
     "name": "stdout",
     "output_type": "stream",
     "text": [
      "210\n"
     ]
    }
   ],
   "source": [
    "# Get number of images\n",
    "print(len([name for name in os.listdir('.') if os.path.isfile(name)]))"
   ]
  },
  {
   "cell_type": "code",
   "execution_count": 137,
   "metadata": {},
   "outputs": [],
   "source": [
    "# Convert the HEIC files to .JPG\n",
    "!heic-to-jpg -s /Users/ryanmitchell/Desktop/w251/final_project/original_images"
   ]
  },
  {
   "cell_type": "markdown",
   "metadata": {},
   "source": [
    "# If new images come in and they need to be annotated, use the code below to separate new from existing images:"
   ]
  },
  {
   "cell_type": "code",
   "execution_count": 176,
   "metadata": {},
   "outputs": [
    {
     "name": "stdout",
     "output_type": "stream",
     "text": [
      "/Users/ryanmitchell/Desktop/w251/final_project/already_annotated\n"
     ]
    }
   ],
   "source": [
    "# Create list of already annotated images (via roboflow): https://app.roboflow.com/ryan-mitchell-rc6co/w251_final_project_throat_detector/2\n",
    "# Store these images in 'already_annotated' folder\n",
    "%cd /Users/ryanmitchell/Desktop/w251/final_project/already_annotated\n",
    "already_annotated = [name for name in os.listdir('.') if os.path.isfile(name)]\n",
    "\n",
    "# Make everything lower_case\n",
    "already_annotated = [str.lower(file) for file in already_annotated]"
   ]
  },
  {
   "cell_type": "code",
   "execution_count": 177,
   "metadata": {},
   "outputs": [
    {
     "name": "stdout",
     "output_type": "stream",
     "text": [
      "/Users/ryanmitchell/Desktop/w251/final_project\n",
      "mkdir: new_images: File exists\n",
      "/Users/ryanmitchell/Desktop/w251/final_project/new_images\n"
     ]
    }
   ],
   "source": [
    "# Switch back into main folder\n",
    "%cd /Users/ryanmitchell/Desktop/w251/final_project\n",
    "\n",
    "# Make new image directory (so we only upload files that we haven't already annotated on roboflow)\n",
    "!mkdir new_images\n",
    "\n",
    "%cd /Users/ryanmitchell/Desktop/w251/final_project/new_images"
   ]
  },
  {
   "cell_type": "code",
   "execution_count": 178,
   "metadata": {},
   "outputs": [],
   "source": [
    "# \"Correct\" the filenames in the already_annotated list (since roboflow adds text to end of original filename)\n",
    "already_annotated_corrected = []\n",
    "for img in already_annotated:\n",
    "    ind = img.find('_jpeg')\n",
    "    stop = max(img.find('_jpg'), img.find('_jpeg'))\n",
    "    if ind > -1:\n",
    "        img = img[:stop]+'.jpeg'\n",
    "    else:\n",
    "        img = img[:stop]+'.jpg'\n",
    "    already_annotated_corrected.append(img)"
   ]
  },
  {
   "cell_type": "code",
   "execution_count": 192,
   "metadata": {},
   "outputs": [],
   "source": [
    "# Copy new files into the new_images folder\n",
    "import os, shutil\n",
    "\n",
    "directory = '/Users/ryanmitchell/Desktop/w251/final_project/original_images/'\n",
    "new_directory = '/Users/ryanmitchell/Desktop/w251/final_project/new_images/'\n",
    "\n",
    "\n",
    "for filename in os.listdir(directory):\n",
    "    name = str.lower(''.join(os.path.splitext(filename)))\n",
    "    if name in already_annotated_corrected:\n",
    "        pass\n",
    "    else:\n",
    "        shutil.copy(directory+filename, new_directory+filename)"
   ]
  },
  {
   "cell_type": "code",
   "execution_count": 195,
   "metadata": {},
   "outputs": [
    {
     "name": "stdout",
     "output_type": "stream",
     "text": [
      "/Users/ryanmitchell/Desktop/w251/final_project/new_images\n",
      "33\n"
     ]
    }
   ],
   "source": [
    "%cd /Users/ryanmitchell/Desktop/w251/final_project/new_images\n",
    "print(len([name for name in os.listdir('.') if os.path.isfile(name)]))"
   ]
  }
 ],
 "metadata": {
  "kernelspec": {
   "display_name": "Python 3",
   "language": "python",
   "name": "python3"
  },
  "language_info": {
   "codemirror_mode": {
    "name": "ipython",
    "version": 3
   },
   "file_extension": ".py",
   "mimetype": "text/x-python",
   "name": "python",
   "nbconvert_exporter": "python",
   "pygments_lexer": "ipython3",
   "version": "3.7.7"
  }
 },
 "nbformat": 4,
 "nbformat_minor": 4
}
