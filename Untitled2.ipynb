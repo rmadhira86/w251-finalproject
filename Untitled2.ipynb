{
 "cells": [
  {
   "cell_type": "code",
   "execution_count": 2,
   "id": "628f4f07",
   "metadata": {},
   "outputs": [
    {
     "name": "stderr",
     "output_type": "stream",
     "text": [
      "2022-04-07 08:49:39.698002: W tensorflow/stream_executor/platform/default/dso_loader.cc:64] Could not load dynamic library 'libcudart.so.11.0'; dlerror: libcudart.so.11.0: cannot open shared object file: No such file or directory\n",
      "2022-04-07 08:49:39.698049: I tensorflow/stream_executor/cuda/cudart_stub.cc:29] Ignore above cudart dlerror if you do not have a GPU set up on your machine.\n"
     ]
    }
   ],
   "source": [
    "#import libraries\n",
    "import numpy as np\n",
    "import csv\n",
    "import pandas as pd\n",
    "import tensorflow as tf\n",
    "import torch\n",
    "import torch.optim as optim\n",
    "import torch.nn as nn\n",
    "from torchviz import make_dot\n",
    "from torchvision import models\n",
    "from torch.nn import init\n",
    "from torch.autograd import Variable\n",
    "import torch.nn.functional as F\n",
    "from torch.utils import data\n",
    "from torch.optim import lr_scheduler\n",
    "from sklearn.model_selection import train_test_split\n",
    "from sklearn.preprocessing import LabelEncoder\n",
    "from sklearn.metrics import mean_squared_error\n",
    "from sklearn import preprocessing\n",
    "from torch.utils.data import TensorDataset\n",
    "from torch.utils.data import Dataset, DataLoader\n",
    "from tqdm import tqdm, tqdm_notebook, tnrange\n",
    "\n",
    "\n",
    "import matplotlib.pyplot as plt\n",
    "import seaborn as sns"
   ]
  },
  {
   "cell_type": "code",
   "execution_count": 3,
   "id": "4ca0d1e7",
   "metadata": {},
   "outputs": [],
   "source": [
    "device = 'cuda' if torch.cuda.is_available() else 'cpu'"
   ]
  },
  {
   "cell_type": "code",
   "execution_count": 4,
   "id": "b5b6662b",
   "metadata": {},
   "outputs": [],
   "source": [
    "#importing dataset\n",
    "dataset = pd.read_csv('Churn_Modelling.csv')\n",
    "#dataset = \"Churn_Modelling.csv\""
   ]
  },
  {
   "cell_type": "code",
   "execution_count": 5,
   "id": "ac13e07c",
   "metadata": {},
   "outputs": [],
   "source": [
    "#as there is no importance in cust id, row no and sur name for modelling we are not included here in independent feature\n",
    "X = dataset.iloc[:, 3:-1].values\n",
    "#target value\n",
    "y = dataset.iloc[:, -1].values"
   ]
  },
  {
   "cell_type": "code",
   "execution_count": 6,
   "id": "4f6bcba9",
   "metadata": {},
   "outputs": [
    {
     "name": "stdout",
     "output_type": "stream",
     "text": [
      "[[619 'France' 'Female' ... 1 1 101348.88]\n",
      " [608 'Spain' 'Female' ... 0 1 112542.58]\n",
      " [502 'France' 'Female' ... 1 0 113931.57]\n",
      " ...\n",
      " [709 'France' 'Female' ... 0 1 42085.58]\n",
      " [772 'Germany' 'Male' ... 1 0 92888.52]\n",
      " [792 'France' 'Female' ... 1 0 38190.78]]\n"
     ]
    }
   ],
   "source": [
    "print(X)"
   ]
  },
  {
   "cell_type": "code",
   "execution_count": 7,
   "id": "7001a16d",
   "metadata": {},
   "outputs": [
    {
     "name": "stdout",
     "output_type": "stream",
     "text": [
      "[1 0 1 ... 1 1 0]\n"
     ]
    }
   ],
   "source": [
    "print(y)"
   ]
  },
  {
   "cell_type": "code",
   "execution_count": 8,
   "id": "5bac6960",
   "metadata": {},
   "outputs": [],
   "source": [
    "#as we have two columns as categorical terms we go for encoding we need to convert to numerical\n",
    "#Categorical encoding\n",
    "\n",
    "#gender will have some correlation with other feature so we go for label encoding\n",
    "from sklearn.preprocessing import LabelEncoder\n",
    "le = LabelEncoder()\n",
    "#gender column in index 2\n",
    "X[:, 2] = le.fit_transform(X[:, 2])"
   ]
  },
  {
   "cell_type": "code",
   "execution_count": 9,
   "id": "b08e3b1d",
   "metadata": {},
   "outputs": [
    {
     "name": "stdout",
     "output_type": "stream",
     "text": [
      "[[619 'France' 0 ... 1 1 101348.88]\n",
      " [608 'Spain' 0 ... 0 1 112542.58]\n",
      " [502 'France' 0 ... 1 0 113931.57]\n",
      " ...\n",
      " [709 'France' 0 ... 0 1 42085.58]\n",
      " [772 'Germany' 1 ... 1 0 92888.52]\n",
      " [792 'France' 0 ... 1 0 38190.78]]\n"
     ]
    }
   ],
   "source": [
    "print(X)"
   ]
  },
  {
   "cell_type": "code",
   "execution_count": 10,
   "id": "ba54ef5e",
   "metadata": {},
   "outputs": [],
   "source": [
    "#country name wont be that much correlation added it has more than 2 names so go for one hot encoding\n",
    "from sklearn.compose import ColumnTransformer\n",
    "from sklearn.preprocessing import OneHotEncoder\n",
    "#country name is present in 1st index value\n",
    "ct = ColumnTransformer(transformers=[('encoder', OneHotEncoder(), [1])], remainder='passthrough')\n",
    "X = np.array(ct.fit_transform(X))"
   ]
  },
  {
   "cell_type": "code",
   "execution_count": 11,
   "id": "c20aa5c5",
   "metadata": {},
   "outputs": [
    {
     "name": "stdout",
     "output_type": "stream",
     "text": [
      "[[1.0 0.0 0.0 ... 1 1 101348.88]\n",
      " [0.0 0.0 1.0 ... 0 1 112542.58]\n",
      " [1.0 0.0 0.0 ... 1 0 113931.57]\n",
      " ...\n",
      " [1.0 0.0 0.0 ... 0 1 42085.58]\n",
      " [0.0 1.0 0.0 ... 1 0 92888.52]\n",
      " [1.0 0.0 0.0 ... 1 0 38190.78]]\n"
     ]
    }
   ],
   "source": [
    "print(X)"
   ]
  },
  {
   "cell_type": "code",
   "execution_count": 12,
   "id": "a2e6ffec",
   "metadata": {},
   "outputs": [],
   "source": [
    "#training and testing split\n",
    "from sklearn.model_selection import train_test_split\n",
    "X_train, X_test, y_train, y_test = train_test_split(X, y, test_size = 0.3, random_state = 0)"
   ]
  },
  {
   "cell_type": "code",
   "execution_count": 13,
   "id": "3c427bee",
   "metadata": {},
   "outputs": [],
   "source": [
    "#feature scaling is an important and mandatory for ann process before modelling\n",
    "from sklearn.preprocessing import StandardScaler\n",
    "sc = StandardScaler()\n",
    "X_train = sc.fit_transform(X_train)\n",
    "X_test = sc.transform(X_test)"
   ]
  },
  {
   "cell_type": "code",
   "execution_count": 14,
   "id": "20d73739",
   "metadata": {},
   "outputs": [
    {
     "name": "stderr",
     "output_type": "stream",
     "text": [
      "2022-04-07 08:56:58.519095: I tensorflow/stream_executor/cuda/cuda_gpu_executor.cc:922] could not open file to read NUMA node: /sys/bus/pci/devices/0000:09:00.0/numa_node\n",
      "Your kernel may have been built without NUMA support.\n",
      "2022-04-07 08:56:58.519360: W tensorflow/stream_executor/platform/default/dso_loader.cc:64] Could not load dynamic library 'libcudart.so.11.0'; dlerror: libcudart.so.11.0: cannot open shared object file: No such file or directory\n",
      "2022-04-07 08:56:58.547342: W tensorflow/stream_executor/platform/default/dso_loader.cc:64] Could not load dynamic library 'libcublas.so.11'; dlerror: libcublas.so.11: cannot open shared object file: No such file or directory\n",
      "2022-04-07 08:56:58.547563: W tensorflow/stream_executor/platform/default/dso_loader.cc:64] Could not load dynamic library 'libcublasLt.so.11'; dlerror: libcublasLt.so.11: cannot open shared object file: No such file or directory\n",
      "2022-04-07 08:56:58.547657: W tensorflow/stream_executor/platform/default/dso_loader.cc:64] Could not load dynamic library 'libcusolver.so.11'; dlerror: libcusolver.so.11: cannot open shared object file: No such file or directory\n",
      "2022-04-07 08:56:58.547710: W tensorflow/stream_executor/platform/default/dso_loader.cc:64] Could not load dynamic library 'libcusparse.so.11'; dlerror: libcusparse.so.11: cannot open shared object file: No such file or directory\n",
      "2022-04-07 08:56:58.547762: W tensorflow/stream_executor/platform/default/dso_loader.cc:64] Could not load dynamic library 'libcudnn.so.8'; dlerror: libcudnn.so.8: cannot open shared object file: No such file or directory\n",
      "2022-04-07 08:56:58.547773: W tensorflow/core/common_runtime/gpu/gpu_device.cc:1850] Cannot dlopen some GPU libraries. Please make sure the missing libraries mentioned above are installed properly if you would like to use GPU. Follow the guide at https://www.tensorflow.org/install/gpu for how to download and setup the required libraries for your platform.\n",
      "Skipping registering GPU devices...\n",
      "2022-04-07 08:56:58.548192: I tensorflow/core/platform/cpu_feature_guard.cc:151] This TensorFlow binary is optimized with oneAPI Deep Neural Network Library (oneDNN) to use the following CPU instructions in performance-critical operations:  AVX2 FMA\n",
      "To enable them in other operations, rebuild TensorFlow with the appropriate compiler flags.\n"
     ]
    }
   ],
   "source": [
    "#ANN - initializing\n",
    "ann = tf.keras.models.Sequential()"
   ]
  },
  {
   "cell_type": "code",
   "execution_count": 15,
   "id": "81e816a5",
   "metadata": {},
   "outputs": [],
   "source": [
    "#input layer\n",
    "# 6 features\n",
    "ann.add(tf.keras.layers.Dense(units=6, activation='relu'))"
   ]
  },
  {
   "cell_type": "code",
   "execution_count": 16,
   "id": "e62949e6",
   "metadata": {},
   "outputs": [],
   "source": [
    "#hidden layer\n",
    "ann.add(tf.keras.layers.Dense(units=6, activation='relu'))"
   ]
  },
  {
   "cell_type": "code",
   "execution_count": 17,
   "id": "694f6ebf",
   "metadata": {},
   "outputs": [],
   "source": [
    "#output layer\n",
    "#as target value is binary - AF\n",
    "ann.add(tf.keras.layers.Dense(units=1, activation='sigmoid'))"
   ]
  },
  {
   "cell_type": "code",
   "execution_count": 18,
   "id": "aeaf3f0a",
   "metadata": {},
   "outputs": [],
   "source": [
    "#compiling\n",
    "#loss - target is binary \n",
    "ann.compile(optimizer = 'adam', loss = 'binary_crossentropy', metrics = ['accuracy'])"
   ]
  },
  {
   "cell_type": "code",
   "execution_count": 19,
   "id": "3f1228a7",
   "metadata": {},
   "outputs": [
    {
     "name": "stdout",
     "output_type": "stream",
     "text": [
      "Epoch 1/50\n",
      "219/219 [==============================] - 1s 1ms/step - loss: 0.5553 - accuracy: 0.7973\n",
      "Epoch 2/50\n",
      "219/219 [==============================] - 0s 1ms/step - loss: 0.4879 - accuracy: 0.7977\n",
      "Epoch 3/50\n",
      "219/219 [==============================] - 0s 1ms/step - loss: 0.4652 - accuracy: 0.7977\n",
      "Epoch 4/50\n",
      "219/219 [==============================] - 0s 1ms/step - loss: 0.4502 - accuracy: 0.7977\n",
      "Epoch 5/50\n",
      "219/219 [==============================] - 0s 1ms/step - loss: 0.4390 - accuracy: 0.7977\n",
      "Epoch 6/50\n",
      "219/219 [==============================] - 0s 1ms/step - loss: 0.4308 - accuracy: 0.7977\n",
      "Epoch 7/50\n",
      "219/219 [==============================] - 0s 1ms/step - loss: 0.4258 - accuracy: 0.7977\n",
      "Epoch 8/50\n",
      "219/219 [==============================] - 0s 1ms/step - loss: 0.4224 - accuracy: 0.8036\n",
      "Epoch 9/50\n",
      "219/219 [==============================] - 0s 1ms/step - loss: 0.4199 - accuracy: 0.8159\n",
      "Epoch 10/50\n",
      "219/219 [==============================] - 0s 1ms/step - loss: 0.4183 - accuracy: 0.8207\n",
      "Epoch 11/50\n",
      "219/219 [==============================] - 0s 1ms/step - loss: 0.4164 - accuracy: 0.8241\n",
      "Epoch 12/50\n",
      "219/219 [==============================] - 0s 1ms/step - loss: 0.4147 - accuracy: 0.8267\n",
      "Epoch 13/50\n",
      "219/219 [==============================] - 0s 2ms/step - loss: 0.4131 - accuracy: 0.8276\n",
      "Epoch 14/50\n",
      "219/219 [==============================] - 0s 2ms/step - loss: 0.4110 - accuracy: 0.8296\n",
      "Epoch 15/50\n",
      "219/219 [==============================] - 0s 1ms/step - loss: 0.4079 - accuracy: 0.8317\n",
      "Epoch 16/50\n",
      "219/219 [==============================] - 0s 1ms/step - loss: 0.4020 - accuracy: 0.8329\n",
      "Epoch 17/50\n",
      "219/219 [==============================] - 0s 2ms/step - loss: 0.3927 - accuracy: 0.8379\n",
      "Epoch 18/50\n",
      "219/219 [==============================] - 0s 2ms/step - loss: 0.3820 - accuracy: 0.8437\n",
      "Epoch 19/50\n",
      "219/219 [==============================] - 0s 2ms/step - loss: 0.3726 - accuracy: 0.8466\n",
      "Epoch 20/50\n",
      "219/219 [==============================] - 0s 2ms/step - loss: 0.3653 - accuracy: 0.8500\n",
      "Epoch 21/50\n",
      "219/219 [==============================] - 0s 1ms/step - loss: 0.3602 - accuracy: 0.8511\n",
      "Epoch 22/50\n",
      "219/219 [==============================] - 0s 1ms/step - loss: 0.3557 - accuracy: 0.8527\n",
      "Epoch 23/50\n",
      "219/219 [==============================] - 0s 1ms/step - loss: 0.3524 - accuracy: 0.8539\n",
      "Epoch 24/50\n",
      "219/219 [==============================] - 0s 1ms/step - loss: 0.3498 - accuracy: 0.8553\n",
      "Epoch 25/50\n",
      "219/219 [==============================] - 0s 2ms/step - loss: 0.3475 - accuracy: 0.8560\n",
      "Epoch 26/50\n",
      "219/219 [==============================] - 0s 1ms/step - loss: 0.3456 - accuracy: 0.8580\n",
      "Epoch 27/50\n",
      "219/219 [==============================] - 0s 1ms/step - loss: 0.3437 - accuracy: 0.8591\n",
      "Epoch 28/50\n",
      "219/219 [==============================] - 0s 1ms/step - loss: 0.3423 - accuracy: 0.8610\n",
      "Epoch 29/50\n",
      "219/219 [==============================] - 0s 2ms/step - loss: 0.3409 - accuracy: 0.8609\n",
      "Epoch 30/50\n",
      "219/219 [==============================] - 0s 2ms/step - loss: 0.3400 - accuracy: 0.8611\n",
      "Epoch 31/50\n",
      "219/219 [==============================] - 0s 2ms/step - loss: 0.3389 - accuracy: 0.8621\n",
      "Epoch 32/50\n",
      "219/219 [==============================] - 0s 1ms/step - loss: 0.3382 - accuracy: 0.8620\n",
      "Epoch 33/50\n",
      "219/219 [==============================] - 0s 1ms/step - loss: 0.3378 - accuracy: 0.8639\n",
      "Epoch 34/50\n",
      "219/219 [==============================] - 0s 1ms/step - loss: 0.3368 - accuracy: 0.8631\n",
      "Epoch 35/50\n",
      "219/219 [==============================] - 0s 1ms/step - loss: 0.3368 - accuracy: 0.8633\n",
      "Epoch 36/50\n",
      "219/219 [==============================] - 0s 1ms/step - loss: 0.3371 - accuracy: 0.8633\n",
      "Epoch 37/50\n",
      "219/219 [==============================] - 0s 1ms/step - loss: 0.3359 - accuracy: 0.8626\n",
      "Epoch 38/50\n",
      "219/219 [==============================] - 0s 1ms/step - loss: 0.3360 - accuracy: 0.8640\n",
      "Epoch 39/50\n",
      "219/219 [==============================] - 0s 1ms/step - loss: 0.3356 - accuracy: 0.8626\n",
      "Epoch 40/50\n",
      "219/219 [==============================] - 0s 1ms/step - loss: 0.3354 - accuracy: 0.8634\n",
      "Epoch 41/50\n",
      "219/219 [==============================] - 0s 1ms/step - loss: 0.3351 - accuracy: 0.8646\n",
      "Epoch 42/50\n",
      "219/219 [==============================] - 0s 1ms/step - loss: 0.3351 - accuracy: 0.8647\n",
      "Epoch 43/50\n",
      "219/219 [==============================] - 0s 1ms/step - loss: 0.3350 - accuracy: 0.8636\n",
      "Epoch 44/50\n",
      "219/219 [==============================] - 0s 1ms/step - loss: 0.3346 - accuracy: 0.8647\n",
      "Epoch 45/50\n",
      "219/219 [==============================] - 0s 1ms/step - loss: 0.3341 - accuracy: 0.8637\n",
      "Epoch 46/50\n",
      "219/219 [==============================] - 0s 1ms/step - loss: 0.3345 - accuracy: 0.8633\n",
      "Epoch 47/50\n",
      "219/219 [==============================] - 0s 1ms/step - loss: 0.3345 - accuracy: 0.8637\n",
      "Epoch 48/50\n",
      "219/219 [==============================] - 0s 1ms/step - loss: 0.3340 - accuracy: 0.8626\n",
      "Epoch 49/50\n",
      "219/219 [==============================] - 0s 1ms/step - loss: 0.3342 - accuracy: 0.8641\n",
      "Epoch 50/50\n",
      "219/219 [==============================] - 0s 1ms/step - loss: 0.3340 - accuracy: 0.8640\n"
     ]
    },
    {
     "data": {
      "text/plain": [
       "<keras.callbacks.History at 0x7f40c2733340>"
      ]
     },
     "execution_count": 19,
     "metadata": {},
     "output_type": "execute_result"
    }
   ],
   "source": [
    "#training set\n",
    "ann.fit(X_train, y_train, batch_size = 32, epochs = 50)"
   ]
  },
  {
   "cell_type": "code",
   "execution_count": 20,
   "id": "52b35f93",
   "metadata": {},
   "outputs": [
    {
     "name": "stdout",
     "output_type": "stream",
     "text": [
      "[[0 0]\n",
      " [0 1]\n",
      " [0 0]\n",
      " ...\n",
      " [0 0]\n",
      " [0 0]\n",
      " [1 1]]\n"
     ]
    }
   ],
   "source": [
    "#test result - prediction\n",
    "y_pred = ann.predict(X_test)\n",
    "#insted of values we ll get 0 or 1\n",
    "y_pred = (y_pred > 0.5)\n",
    "#actual vs predicted outputs\n",
    "print(np.concatenate((y_pred.reshape(len(y_pred),1), y_test.reshape(len(y_test),1)),1))"
   ]
  },
  {
   "cell_type": "code",
   "execution_count": 21,
   "id": "fba0a906",
   "metadata": {},
   "outputs": [
    {
     "name": "stdout",
     "output_type": "stream",
     "text": [
      "[[2261  118]\n",
      " [ 300  321]]\n"
     ]
    },
    {
     "data": {
      "text/plain": [
       "0.8606666666666667"
      ]
     },
     "execution_count": 21,
     "metadata": {},
     "output_type": "execute_result"
    }
   ],
   "source": [
    "#accuracy and confusion matrix\n",
    "from sklearn.metrics import confusion_matrix, accuracy_score\n",
    "cm = confusion_matrix(y_test, y_pred)\n",
    "print(cm)\n",
    "accuracy_score(y_test, y_pred)"
   ]
  },
  {
   "cell_type": "markdown",
   "id": "2b3f4022",
   "metadata": {},
   "source": [
    "Use our ANN model to predict if the customer with the following information will leave the bank:\n",
    "\n",
    "Geography: France\n",
    "\n",
    "Credit Score: 750\n",
    "\n",
    "Gender: Female\n",
    "\n",
    "Age: 48 years old\n",
    "\n",
    "Tenure: 5 years\n",
    "\n",
    "Balance: $ 62500\n",
    "\n",
    "Number of Products: 3\n",
    "\n",
    "Does this customer have a credit card ? Yes\n",
    "\n",
    "Is this customer an Active Member: Yes\n",
    "\n",
    "Estimated Salary: $ 80000\n",
    "\n",
    "So, should we say goodbye to that customer ?"
   ]
  },
  {
   "cell_type": "code",
   "execution_count": null,
   "id": "f47c2e74",
   "metadata": {},
   "outputs": [],
   "source": []
  }
 ],
 "metadata": {
  "kernelspec": {
   "display_name": "Python 3 (ipykernel)",
   "language": "python",
   "name": "python3"
  },
  "language_info": {
   "codemirror_mode": {
    "name": "ipython",
    "version": 3
   },
   "file_extension": ".py",
   "mimetype": "text/x-python",
   "name": "python",
   "nbconvert_exporter": "python",
   "pygments_lexer": "ipython3",
   "version": "3.9.7"
  }
 },
 "nbformat": 4,
 "nbformat_minor": 5
}
